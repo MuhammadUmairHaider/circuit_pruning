{
 "cells": [
  {
   "cell_type": "code",
   "execution_count": 1,
   "id": "d0325232",
   "metadata": {},
   "outputs": [
    {
     "name": "stdout",
     "output_type": "stream",
     "text": [
      "--- Initializing Models ---\n",
      "--- Tokenizer Initialized ---\n"
     ]
    }
   ],
   "source": [
    "import torch\n",
    "from models.gpt2_masks import CircuitDiscoveryGPT2, PruningConfig\n",
    "from transformers import GPT2LMHeadModel, GPT2Tokenizer\n",
    "# --- Configuration ---\n",
    "MODEL_NAME = \"gpt2\"\n",
    "DEVICE = \"cuda\" if torch.cuda.is_available() else \"cpu\"\n",
    "\n",
    "# Define a pruning config for a perfect 1-to-1 test\n",
    "# Gates are initialized to 1.0, and all sparsity penalties are off.\n",
    "pruning_config_for_test = PruningConfig(\n",
    "    init_value=1.0,\n",
    "    lambda_attention=0.5,\n",
    "    lambda_mlp=0.5,\n",
    "    lambda_component=0.5,\n",
    "    lambda_block=0.5,\n",
    ")\n",
    "\n",
    "# --- Model Initialization ---\n",
    "print(\"--- Initializing Models ---\")\n",
    "\n",
    "# Use the NEW custom constructor for the prunable model\n",
    "model = CircuitDiscoveryGPT2.from_pretrained_with_pruning(\n",
    "    MODEL_NAME,\n",
    "    pruning_config=pruning_config_for_test\n",
    ").to(DEVICE).eval()\n",
    "\n",
    "# Load the standard base model for comparison\n",
    "base_model = GPT2LMHeadModel.from_pretrained(MODEL_NAME).to(DEVICE).eval()\n",
    "# --- Tokenizer Initialization ---\n",
    "tokenizer = GPT2Tokenizer.from_pretrained(MODEL_NAME)\n",
    "if tokenizer.pad_token is None:\n",
    "    tokenizer.pad_token = tokenizer.eos_token\n",
    "print(\"--- Tokenizer Initialized ---\")"
   ]
  },
  {
   "cell_type": "code",
   "execution_count": 6,
   "id": "a21c7eee",
   "metadata": {},
   "outputs": [],
   "source": [
    "# Import necessary libraries\n",
    "from tqdm import tqdm\n",
    "from typing import List, Dict\n",
    "def test_ioi_circuit(model: CircuitDiscoveryGPT2, tokenizer: GPT2Tokenizer, test_data: List[Dict], device: str):\n",
    "    \"\"\"\n",
    "    Tests the pruned model's ability to perform the IOI task on unseen examples.\n",
    "\n",
    "    Args:\n",
    "        model: The trained and masked model.\n",
    "        tokenizer: The tokenizer.\n",
    "        test_data: A list of dictionaries, each with 'prompt' and 'completion'.\n",
    "        device: The device to run inference on.\n",
    "    \"\"\"\n",
    "    print(\"\\n\" + \"=\"*50)\n",
    "    print(\"      PERFORMING INFERENCE ON THE PRUNED CIRCUIT\")\n",
    "    print(\"=\"*50 + \"\\n\")\n",
    "    \n",
    "    model.eval() # Set the model to evaluation mode\n",
    "    model.to(device)\n",
    "\n",
    "    correct_predictions = 0\n",
    "    total_predictions = len(test_data)\n",
    "\n",
    "    with torch.no_grad(): # Disable gradient calculations for inference\n",
    "        for i, item in enumerate(tqdm(test_data, desc=\"Testing Circuit\")):\n",
    "            prompt = item['prompt']\n",
    "            expected_completion = item['completion']\n",
    "\n",
    "            inputs = tokenizer(prompt, return_tensors='pt').to(device)\n",
    "            \n",
    "            # Generate completion. max_new_tokens is short since we only expect a name.\n",
    "            output_sequences = model.generate(\n",
    "                input_ids=inputs['input_ids'],\n",
    "                max_new_tokens=6,\n",
    "                pad_token_id=tokenizer.eos_token_id, # Suppress padding warning\n",
    "                early_stopping=True\n",
    "            )\n",
    "\n",
    "            # Decode only the newly generated tokens\n",
    "            generated_ids = output_sequences[0][inputs['input_ids'].shape[-1]:]\n",
    "            generated_text = tokenizer.decode(generated_ids, skip_special_tokens=True).strip()\n",
    "\n",
    "            # Check for correctness\n",
    "            is_correct = generated_text.startswith(expected_completion)\n",
    "            if is_correct:\n",
    "                correct_predictions += 1\n",
    "            \n",
    "            # Print a few examples to see the output\n",
    "            if i < 5 or not is_correct: # Print first 5 and any incorrect ones\n",
    "                print(f\"\\nPrompt:      '{prompt}'\")\n",
    "                print(f\"Expected:    '{expected_completion}'\")\n",
    "                print(f\"Generated:   '{generated_text}'\")\n",
    "                print(f\"Result:      {'✅ CORRECT' if is_correct else '❌ INCORRECT'}\")\n",
    "\n",
    "    accuracy = (correct_predictions / total_predictions) * 100\n",
    "    print(\"\\n\" + \"=\"*50)\n",
    "    print(f\"Circuit Performance Summary:\")\n",
    "    print(f\"Correct Predictions: {correct_predictions} / {total_predictions}\")\n",
    "    print(f\"Accuracy on IOI task: {accuracy:.2f}%\")\n",
    "    print(\"=\"*50)"
   ]
  },
  {
   "cell_type": "code",
   "execution_count": 3,
   "id": "a6b2e540",
   "metadata": {},
   "outputs": [
    {
     "name": "stdout",
     "output_type": "stream",
     "text": [
      "Device: cuda\n",
      "Total Model Parameters: 124.48M\n",
      "Trainable Gate Parameters: 37044 (0.0298% of total)\n",
      "Starting training...\n"
     ]
    },
    {
     "name": "stderr",
     "output_type": "stream",
     "text": [
      "Epoch 1/5:   0%|          | 0/125 [00:00<?, ?it/s]`loss_type=None` was set in the config but it is unrecognised.Using the default loss: `ForCausalLMLoss`.\n",
      "Epoch 1/5: 100%|██████████| 125/125 [00:07<00:00, 16.67it/s]\n"
     ]
    },
    {
     "name": "stdout",
     "output_type": "stream",
     "text": [
      "Epoch 1 Summary: Avg Data Loss: 0.5483, Avg Sparsity Loss: 20.5833\n"
     ]
    },
    {
     "name": "stderr",
     "output_type": "stream",
     "text": [
      "Epoch 2/5: 100%|██████████| 125/125 [00:06<00:00, 18.22it/s]\n"
     ]
    },
    {
     "name": "stdout",
     "output_type": "stream",
     "text": [
      "Epoch 2 Summary: Avg Data Loss: 0.0341, Avg Sparsity Loss: 6.7755\n"
     ]
    },
    {
     "name": "stderr",
     "output_type": "stream",
     "text": [
      "Epoch 3/5: 100%|██████████| 125/125 [00:06<00:00, 18.25it/s]\n"
     ]
    },
    {
     "name": "stdout",
     "output_type": "stream",
     "text": [
      "Epoch 3 Summary: Avg Data Loss: 0.0264, Avg Sparsity Loss: 1.5262\n"
     ]
    },
    {
     "name": "stderr",
     "output_type": "stream",
     "text": [
      "Epoch 4/5: 100%|██████████| 125/125 [00:06<00:00, 18.10it/s]\n"
     ]
    },
    {
     "name": "stdout",
     "output_type": "stream",
     "text": [
      "Epoch 4 Summary: Avg Data Loss: 0.0205, Avg Sparsity Loss: 0.7655\n"
     ]
    },
    {
     "name": "stderr",
     "output_type": "stream",
     "text": [
      "Epoch 5/5: 100%|██████████| 125/125 [00:06<00:00, 18.08it/s]\n",
      "/mounts/u-amo-d1/grad/mha361/work/circuits/trainers/gpt2.py:68: FutureWarning: \n",
      "\n",
      "Passing `palette` without assigning `hue` is deprecated and will be removed in v0.14.0. Assign the `x` variable to `hue` and set `legend=False` for the same effect.\n",
      "\n",
      "  sns.barplot(x=list(layer_indices), y=data_to_plot, ax=ax, palette=palette)\n",
      "/mounts/u-amo-d1/grad/mha361/work/circuits/trainers/gpt2.py:68: FutureWarning: \n",
      "\n",
      "Passing `palette` without assigning `hue` is deprecated and will be removed in v0.14.0. Assign the `x` variable to `hue` and set `legend=False` for the same effect.\n",
      "\n",
      "  sns.barplot(x=list(layer_indices), y=data_to_plot, ax=ax, palette=palette)\n",
      "/mounts/u-amo-d1/grad/mha361/work/circuits/trainers/gpt2.py:68: FutureWarning: \n",
      "\n",
      "Passing `palette` without assigning `hue` is deprecated and will be removed in v0.14.0. Assign the `x` variable to `hue` and set `legend=False` for the same effect.\n",
      "\n",
      "  sns.barplot(x=list(layer_indices), y=data_to_plot, ax=ax, palette=palette)\n",
      "/mounts/u-amo-d1/grad/mha361/work/circuits/trainers/gpt2.py:68: FutureWarning: \n",
      "\n",
      "Passing `palette` without assigning `hue` is deprecated and will be removed in v0.14.0. Assign the `x` variable to `hue` and set `legend=False` for the same effect.\n",
      "\n",
      "  sns.barplot(x=list(layer_indices), y=data_to_plot, ax=ax, palette=palette)\n"
     ]
    },
    {
     "name": "stdout",
     "output_type": "stream",
     "text": [
      "Epoch 5 Summary: Avg Data Loss: 0.0187, Avg Sparsity Loss: 0.5329\n",
      "\n",
      "Applying final circuit mask...\n",
      "  Block 0 Attention Heads: 12/12 active\n",
      "  Block 1 Attention Heads: 7/12 active\n",
      "  Block 2 Attention Heads: 6/12 active\n",
      "  Block 3 Attention Heads: 0/12 active\n",
      "  Block 4 Attention Heads: 5/12 active\n",
      "  Block 5 Attention Heads: 0/12 active\n",
      "  Block 6 Attention Heads: 4/12 active\n",
      "  Block 7 Attention Heads: 8/12 active\n",
      "  Block 8 Attention Heads: 5/12 active\n",
      "  Block 9 Attention Heads: 12/12 active\n",
      "  Block 10 Attention Heads: 12/12 active\n",
      "  Block 11 Attention Heads: 12/12 active\n"
     ]
    },
    {
     "data": {
      "image/png": "[encoded data removed]",
      "text/plain": [
       "<Figure size 1800x1200 with 4 Axes>"
      ]
     },
     "metadata": {},
     "output_type": "display_data"
    }
   ],
   "source": [
    "from dataset.ioi import IOIDataset, generate_ioi_sample\n",
    "from torch.utils.data import DataLoader\n",
    "from trainers.gpt2 import CircuitTrainer\n",
    "from torch.optim import AdamW\n",
    "if __name__ == '__main__':\n",
    "    # --- Configuration ---\n",
    "    MODEL_NAME = 'gpt2'\n",
    "    NUM_EPOCHS = 5\n",
    "    LEARNING_RATE = 1e-2 # Higher learning rate for gates is often effective\n",
    "    BATCH_SIZE = 16\n",
    "    DEVICE = 'cuda' if torch.cuda.is_available() else 'cpu'\n",
    "\n",
    "    # --- Setup Model and Tokenizer ---\n",
    "    pruning_config = PruningConfig()\n",
    "    model = CircuitDiscoveryGPT2.from_pretrained_with_pruning(MODEL_NAME, pruning_config)\n",
    "    tokenizer = GPT2Tokenizer.from_pretrained(MODEL_NAME)\n",
    "    model.to(DEVICE)\n",
    "\n",
    "    # --- Freeze Backbone, Isolate Gate Parameters ---\n",
    "    gate_params = []\n",
    "    total_params = 0\n",
    "    for name, param in model.named_parameters():\n",
    "        total_params += param.numel()\n",
    "        if 'gate' in name:\n",
    "            gate_params.append(param)\n",
    "            param.requires_grad = True # Ensure gates are trainable\n",
    "        else:\n",
    "            param.requires_grad = False # Freeze all other parameters\n",
    "\n",
    "    trainable_params = sum(p.numel() for p in gate_params)\n",
    "    print(f\"Device: {DEVICE}\")\n",
    "    print(f\"Total Model Parameters: {total_params / 1e6:.2f}M\")\n",
    "    print(f\"Trainable Gate Parameters: {trainable_params} ({(trainable_params / total_params) * 100:.4f}% of total)\")\n",
    "\n",
    "    # --- Setup Optimizer ---\n",
    "    optimizer = AdamW(gate_params, lr=LEARNING_RATE)\n",
    "\n",
    "    # --- Prepare Dataset ---\n",
    "    names = [\"Mary\", \"John\", \"Alice\", \"Bob\", \"Patricia\", \"James\", \"Linda\", \"Robert\"]\n",
    "    locations = [\"store\", \"park\", \"cafe\", \"office\", \"school\", \"hospital\"]\n",
    "    objects = [\"drink\", \"book\", \"gift\", \"letter\", \"key\", \"report\"]\n",
    "    \n",
    "    # Generate a larger dataset for more stable training\n",
    "    ioi_data = [generate_ioi_sample(names, locations, objects) for _ in range(2000)]\n",
    "    ioi_dataset = IOIDataset(ioi_data, tokenizer)\n",
    "    train_dataloader = DataLoader(ioi_dataset, batch_size=BATCH_SIZE, shuffle=True)\n",
    "\n",
    "    # --- Train the Circuit ---\n",
    "    trainer = CircuitTrainer(model, tokenizer, device=DEVICE)\n",
    "    trainer.train(train_dataloader, optimizer, num_epochs=NUM_EPOCHS)\n",
    "\n",
    "    # --- Analyze the Result ---\n",
    "    model.apply_circuit_mask(verbose=True)\n",
    "    trainer.visualize_circuit_stats()\n"
   ]
  },
  {
   "cell_type": "code",
   "execution_count": null,
   "id": "1246082e",
   "metadata": {},
   "outputs": [
    {
     "name": "stdout",
     "output_type": "stream",
     "text": [
      "Device: cuda\n",
      "Total Model Parameters: 124.48M\n",
      "Trainable Gate Parameters: 37044 (0.0298% of total)\n",
      "Starting training...\n"
     ]
    },
    {
     "name": "stderr",
     "output_type": "stream",
     "text": [
      "Epoch 1/5: 100%|██████████| 125/125 [00:06<00:00, 18.22it/s]\n"
     ]
    },
    {
     "name": "stdout",
     "output_type": "stream",
     "text": [
      "Epoch 1 Summary: Avg Data Loss: 0.5290, Avg Sparsity Loss: 20.6689\n"
     ]
    },
    {
     "name": "stderr",
     "output_type": "stream",
     "text": [
      "Epoch 2/5: 100%|██████████| 125/125 [00:06<00:00, 18.18it/s]\n"
     ]
    },
    {
     "name": "stdout",
     "output_type": "stream",
     "text": [
      "Epoch 2 Summary: Avg Data Loss: 0.0275, Avg Sparsity Loss: 6.8800\n"
     ]
    },
    {
     "name": "stderr",
     "output_type": "stream",
     "text": [
      "Epoch 3/5: 100%|██████████| 125/125 [00:06<00:00, 18.16it/s]\n"
     ]
    },
    {
     "name": "stdout",
     "output_type": "stream",
     "text": [
      "Epoch 3 Summary: Avg Data Loss: 0.0239, Avg Sparsity Loss: 1.5303\n"
     ]
    },
    {
     "name": "stderr",
     "output_type": "stream",
     "text": [
      "Epoch 4/5: 100%|██████████| 125/125 [00:06<00:00, 18.10it/s]\n"
     ]
    },
    {
     "name": "stdout",
     "output_type": "stream",
     "text": [
      "Epoch 4 Summary: Avg Data Loss: 0.0208, Avg Sparsity Loss: 0.8012\n"
     ]
    },
    {
     "name": "stderr",
     "output_type": "stream",
     "text": [
      "Epoch 5/5: 100%|██████████| 125/125 [00:07<00:00, 17.71it/s]\n",
      "/mounts/u-amo-d1/grad/mha361/work/circuits/trainers/gpt2.py:68: FutureWarning: \n",
      "\n",
      "Passing `palette` without assigning `hue` is deprecated and will be removed in v0.14.0. Assign the `x` variable to `hue` and set `legend=False` for the same effect.\n",
      "\n",
      "  sns.barplot(x=list(layer_indices), y=data_to_plot, ax=ax, palette=palette)\n",
      "/mounts/u-amo-d1/grad/mha361/work/circuits/trainers/gpt2.py:68: FutureWarning: \n",
      "\n",
      "Passing `palette` without assigning `hue` is deprecated and will be removed in v0.14.0. Assign the `x` variable to `hue` and set `legend=False` for the same effect.\n",
      "\n",
      "  sns.barplot(x=list(layer_indices), y=data_to_plot, ax=ax, palette=palette)\n",
      "/mounts/u-amo-d1/grad/mha361/work/circuits/trainers/gpt2.py:68: FutureWarning: \n",
      "\n",
      "Passing `palette` without assigning `hue` is deprecated and will be removed in v0.14.0. Assign the `x` variable to `hue` and set `legend=False` for the same effect.\n",
      "\n",
      "  sns.barplot(x=list(layer_indices), y=data_to_plot, ax=ax, palette=palette)\n",
      "/mounts/u-amo-d1/grad/mha361/work/circuits/trainers/gpt2.py:68: FutureWarning: \n",
      "\n",
      "Passing `palette` without assigning `hue` is deprecated and will be removed in v0.14.0. Assign the `x` variable to `hue` and set `legend=False` for the same effect.\n",
      "\n",
      "  sns.barplot(x=list(layer_indices), y=data_to_plot, ax=ax, palette=palette)\n"
     ]
    },
    {
     "name": "stdout",
     "output_type": "stream",
     "text": [
      "Epoch 5 Summary: Avg Data Loss: 0.0177, Avg Sparsity Loss: 0.5370\n",
      "\n",
      "Applying final circuit mask...\n",
      "  Block 0 Attention Heads: 12/12 active\n",
      "  Block 1 Attention Heads: 8/12 active\n",
      "  Block 2 Attention Heads: 7/12 active\n",
      "  Block 3 Attention Heads: 0/12 active\n",
      "  Block 4 Attention Heads: 7/12 active\n",
      "  Block 5 Attention Heads: 1/12 active\n",
      "  Block 6 Attention Heads: 6/12 active\n",
      "  Block 7 Attention Heads: 10/12 active\n",
      "  Block 8 Attention Heads: 6/12 active\n",
      "  Block 9 Attention Heads: 12/12 active\n",
      "  Block 10 Attention Heads: 12/12 active\n",
      "  Block 11 Attention Heads: 12/12 active\n"
     ]
    },
    {
     "data": {
      "image/png": "[encoded data removed]",
      "text/plain": [
       "<Figure size 1800x1200 with 4 Axes>"
      ]
     },
     "metadata": {},
     "output_type": "display_data"
    },
    {
     "name": "stdout",
     "output_type": "stream",
     "text": [
      "\n",
      "Generating a new set of unseen samples for testing...\n",
      "\n",
      "==================================================\n",
      "      PERFORMING INFERENCE ON THE PRUNED CIRCUIT\n",
      "==================================================\n",
      "\n"
     ]
    },
    {
     "name": "stderr",
     "output_type": "stream",
     "text": [
      "Testing Circuit:   0%|          | 0/50 [00:00<?, ?it/s]The following generation flags are not valid and may be ignored: ['early_stopping']. Set `TRANSFORMERS_VERBOSITY=info` for more details.\n",
      "The following generation flags are not valid and may be ignored: ['early_stopping']. Set `TRANSFORMERS_VERBOSITY=info` for more details.\n",
      "The following generation flags are not valid and may be ignored: ['early_stopping']. Set `TRANSFORMERS_VERBOSITY=info` for more details.\n",
      "The following generation flags are not valid and may be ignored: ['early_stopping']. Set `TRANSFORMERS_VERBOSITY=info` for more details.\n",
      "The following generation flags are not valid and may be ignored: ['early_stopping']. Set `TRANSFORMERS_VERBOSITY=info` for more details.\n",
      "The following generation flags are not valid and may be ignored: ['early_stopping']. Set `TRANSFORMERS_VERBOSITY=info` for more details.\n",
      "The following generation flags are not valid and may be ignored: ['early_stopping']. Set `TRANSFORMERS_VERBOSITY=info` for more details.\n",
      "The following generation flags are not valid and may be ignored: ['early_stopping']. Set `TRANSFORMERS_VERBOSITY=info` for more details.\n",
      "Testing Circuit:  16%|█▌        | 8/50 [00:00<00:00, 77.76it/s]The following generation flags are not valid and may be ignored: ['early_stopping']. Set `TRANSFORMERS_VERBOSITY=info` for more details.\n",
      "The following generation flags are not valid and may be ignored: ['early_stopping']. Set `TRANSFORMERS_VERBOSITY=info` for more details.\n",
      "The following generation flags are not valid and may be ignored: ['early_stopping']. Set `TRANSFORMERS_VERBOSITY=info` for more details.\n",
      "The following generation flags are not valid and may be ignored: ['early_stopping']. Set `TRANSFORMERS_VERBOSITY=info` for more details.\n",
      "The following generation flags are not valid and may be ignored: ['early_stopping']. Set `TRANSFORMERS_VERBOSITY=info` for more details.\n",
      "The following generation flags are not valid and may be ignored: ['early_stopping']. Set `TRANSFORMERS_VERBOSITY=info` for more details.\n",
      "The following generation flags are not valid and may be ignored: ['early_stopping']. Set `TRANSFORMERS_VERBOSITY=info` for more details.\n"
     ]
    },
    {
     "name": "stdout",
     "output_type": "stream",
     "text": [
      "\n",
      "Prompt:      'When John and Robert went to the hospital, Robert gave a gift to'\n",
      "Expected:    'John'\n",
      "Generated:   ''\n",
      "Result:      ❌ INCORRECT\n",
      "\n",
      "Prompt:      'When Mary and Patricia went to the office, Patricia gave a drink to'\n",
      "Expected:    'Mary'\n",
      "Generated:   ''\n",
      "Result:      ❌ INCORRECT\n",
      "\n",
      "Prompt:      'When Bob and Linda went to the store, Linda gave a letter to'\n",
      "Expected:    'Bob'\n",
      "Generated:   ''\n",
      "Result:      ❌ INCORRECT\n",
      "\n",
      "Prompt:      'When Alice and Bob went to the hospital, Bob gave a letter to'\n",
      "Expected:    'Alice'\n",
      "Generated:   ''\n",
      "Result:      ❌ INCORRECT\n",
      "\n",
      "Prompt:      'When Bob and Alice went to the school, Alice gave a key to'\n",
      "Expected:    'Bob'\n",
      "Generated:   ''\n",
      "Result:      ❌ INCORRECT\n",
      "\n",
      "Prompt:      'When Patricia and James went to the store, James gave a book to'\n",
      "Expected:    'Patricia'\n",
      "Generated:   ''\n",
      "Result:      ❌ INCORRECT\n",
      "\n",
      "Prompt:      'When Mary and Patricia went to the park, Patricia gave a drink to'\n",
      "Expected:    'Mary'\n",
      "Generated:   ''\n",
      "Result:      ❌ INCORRECT\n",
      "\n",
      "Prompt:      'When John and Mary went to the park, Mary gave a report to'\n",
      "Expected:    'John'\n",
      "Generated:   ''\n",
      "Result:      ❌ INCORRECT\n",
      "\n",
      "Prompt:      'When Robert and Mary went to the office, Mary gave a book to'\n",
      "Expected:    'Robert'\n",
      "Generated:   ''\n",
      "Result:      ❌ INCORRECT\n",
      "\n",
      "Prompt:      'When James and Mary went to the office, Mary gave a key to'\n",
      "Expected:    'James'\n",
      "Generated:   ''\n",
      "Result:      ❌ INCORRECT\n",
      "\n",
      "Prompt:      'When Mary and Robert went to the cafe, Robert gave a key to'\n",
      "Expected:    'Mary'\n",
      "Generated:   ''\n",
      "Result:      ❌ INCORRECT\n",
      "\n",
      "Prompt:      'When Mary and Linda went to the store, Linda gave a letter to'\n",
      "Expected:    'Mary'\n",
      "Generated:   ''\n",
      "Result:      ❌ INCORRECT\n",
      "\n",
      "Prompt:      'When Bob and Mary went to the store, Mary gave a book to'\n",
      "Expected:    'Bob'\n",
      "Generated:   ''\n",
      "Result:      ❌ INCORRECT\n",
      "\n",
      "Prompt:      'When John and Linda went to the school, Linda gave a key to'\n",
      "Expected:    'John'\n",
      "Generated:   ''\n",
      "Result:      ❌ INCORRECT\n"
     ]
    },
    {
     "name": "stderr",
     "output_type": "stream",
     "text": [
      "The following generation flags are not valid and may be ignored: ['early_stopping']. Set `TRANSFORMERS_VERBOSITY=info` for more details.\n",
      "Testing Circuit:  32%|███▏      | 16/50 [00:00<00:00, 74.85it/s]The following generation flags are not valid and may be ignored: ['early_stopping']. Set `TRANSFORMERS_VERBOSITY=info` for more details.\n"
     ]
    },
    {
     "name": "stdout",
     "output_type": "stream",
     "text": [
      "\n",
      "Prompt:      'When Mary and Linda went to the cafe, Linda gave a gift to'\n",
      "Expected:    'Mary'\n",
      "Generated:   ''\n",
      "Result:      ❌ INCORRECT\n",
      "\n",
      "Prompt:      'When Mary and Alice went to the cafe, Alice gave a gift to'\n",
      "Expected:    'Mary'\n",
      "Generated:   ''\n",
      "Result:      ❌ INCORRECT\n"
     ]
    },
    {
     "name": "stderr",
     "output_type": "stream",
     "text": [
      "The following generation flags are not valid and may be ignored: ['early_stopping']. Set `TRANSFORMERS_VERBOSITY=info` for more details.\n",
      "The following generation flags are not valid and may be ignored: ['early_stopping']. Set `TRANSFORMERS_VERBOSITY=info` for more details.\n",
      "The following generation flags are not valid and may be ignored: ['early_stopping']. Set `TRANSFORMERS_VERBOSITY=info` for more details.\n",
      "The following generation flags are not valid and may be ignored: ['early_stopping']. Set `TRANSFORMERS_VERBOSITY=info` for more details.\n",
      "The following generation flags are not valid and may be ignored: ['early_stopping']. Set `TRANSFORMERS_VERBOSITY=info` for more details.\n",
      "The following generation flags are not valid and may be ignored: ['early_stopping']. Set `TRANSFORMERS_VERBOSITY=info` for more details.\n",
      "The following generation flags are not valid and may be ignored: ['early_stopping']. Set `TRANSFORMERS_VERBOSITY=info` for more details.\n",
      "Testing Circuit:  48%|████▊     | 24/50 [00:00<00:00, 77.01it/s]The following generation flags are not valid and may be ignored: ['early_stopping']. Set `TRANSFORMERS_VERBOSITY=info` for more details.\n",
      "The following generation flags are not valid and may be ignored: ['early_stopping']. Set `TRANSFORMERS_VERBOSITY=info` for more details.\n",
      "The following generation flags are not valid and may be ignored: ['early_stopping']. Set `TRANSFORMERS_VERBOSITY=info` for more details.\n",
      "The following generation flags are not valid and may be ignored: ['early_stopping']. Set `TRANSFORMERS_VERBOSITY=info` for more details.\n",
      "The following generation flags are not valid and may be ignored: ['early_stopping']. Set `TRANSFORMERS_VERBOSITY=info` for more details.\n",
      "The following generation flags are not valid and may be ignored: ['early_stopping']. Set `TRANSFORMERS_VERBOSITY=info` for more details.\n",
      "The following generation flags are not valid and may be ignored: ['early_stopping']. Set `TRANSFORMERS_VERBOSITY=info` for more details.\n"
     ]
    },
    {
     "name": "stdout",
     "output_type": "stream",
     "text": [
      "\n",
      "Prompt:      'When Bob and Robert went to the cafe, Robert gave a report to'\n",
      "Expected:    'Bob'\n",
      "Generated:   ''\n",
      "Result:      ❌ INCORRECT\n",
      "\n",
      "Prompt:      'When Linda and Alice went to the school, Alice gave a gift to'\n",
      "Expected:    'Linda'\n",
      "Generated:   ''\n",
      "Result:      ❌ INCORRECT\n",
      "\n",
      "Prompt:      'When Alice and Mary went to the hospital, Mary gave a book to'\n",
      "Expected:    'Alice'\n",
      "Generated:   ''\n",
      "Result:      ❌ INCORRECT\n",
      "\n",
      "Prompt:      'When Mary and Bob went to the hospital, Bob gave a key to'\n",
      "Expected:    'Mary'\n",
      "Generated:   ''\n",
      "Result:      ❌ INCORRECT\n",
      "\n",
      "Prompt:      'When Robert and Mary went to the store, Mary gave a letter to'\n",
      "Expected:    'Robert'\n",
      "Generated:   ''\n",
      "Result:      ❌ INCORRECT\n",
      "\n",
      "Prompt:      'When Mary and James went to the hospital, James gave a key to'\n",
      "Expected:    'Mary'\n",
      "Generated:   ''\n",
      "Result:      ❌ INCORRECT\n",
      "\n",
      "Prompt:      'When Patricia and James went to the school, James gave a gift to'\n",
      "Expected:    'Patricia'\n",
      "Generated:   ''\n",
      "Result:      ❌ INCORRECT\n",
      "\n",
      "Prompt:      'When Linda and James went to the office, James gave a report to'\n",
      "Expected:    'Linda'\n",
      "Generated:   ''\n",
      "Result:      ❌ INCORRECT\n",
      "\n",
      "Prompt:      'When James and Linda went to the hospital, Linda gave a key to'\n",
      "Expected:    'James'\n",
      "Generated:   ''\n",
      "Result:      ❌ INCORRECT\n",
      "\n",
      "Prompt:      'When James and Mary went to the cafe, Mary gave a gift to'\n",
      "Expected:    'James'\n",
      "Generated:   ''\n",
      "Result:      ❌ INCORRECT\n",
      "\n",
      "Prompt:      'When Robert and John went to the hospital, John gave a drink to'\n",
      "Expected:    'Robert'\n",
      "Generated:   ''\n",
      "Result:      ❌ INCORRECT\n",
      "\n",
      "Prompt:      'When Linda and John went to the office, John gave a drink to'\n",
      "Expected:    'Linda'\n",
      "Generated:   ''\n",
      "Result:      ❌ INCORRECT\n",
      "\n",
      "Prompt:      'When Mary and John went to the hospital, John gave a drink to'\n",
      "Expected:    'Mary'\n",
      "Generated:   ''\n",
      "Result:      ❌ INCORRECT\n",
      "\n",
      "Prompt:      'When Mary and Linda went to the office, Linda gave a report to'\n",
      "Expected:    'Mary'\n",
      "Generated:   ''\n",
      "Result:      ❌ INCORRECT\n"
     ]
    },
    {
     "name": "stderr",
     "output_type": "stream",
     "text": [
      "The following generation flags are not valid and may be ignored: ['early_stopping']. Set `TRANSFORMERS_VERBOSITY=info` for more details.\n",
      "Testing Circuit:  64%|██████▍   | 32/50 [00:00<00:00, 77.45it/s]The following generation flags are not valid and may be ignored: ['early_stopping']. Set `TRANSFORMERS_VERBOSITY=info` for more details.\n"
     ]
    },
    {
     "name": "stdout",
     "output_type": "stream",
     "text": [
      "\n",
      "Prompt:      'When Mary and Robert went to the store, Robert gave a book to'\n",
      "Expected:    'Mary'\n",
      "Generated:   ''\n",
      "Result:      ❌ INCORRECT\n",
      "\n",
      "Prompt:      'When Robert and John went to the hospital, John gave a key to'\n",
      "Expected:    'Robert'\n",
      "Generated:   ''\n",
      "Result:      ❌ INCORRECT\n"
     ]
    },
    {
     "name": "stderr",
     "output_type": "stream",
     "text": [
      "The following generation flags are not valid and may be ignored: ['early_stopping']. Set `TRANSFORMERS_VERBOSITY=info` for more details.\n",
      "The following generation flags are not valid and may be ignored: ['early_stopping']. Set `TRANSFORMERS_VERBOSITY=info` for more details.\n",
      "The following generation flags are not valid and may be ignored: ['early_stopping']. Set `TRANSFORMERS_VERBOSITY=info` for more details.\n",
      "The following generation flags are not valid and may be ignored: ['early_stopping']. Set `TRANSFORMERS_VERBOSITY=info` for more details.\n",
      "The following generation flags are not valid and may be ignored: ['early_stopping']. Set `TRANSFORMERS_VERBOSITY=info` for more details.\n",
      "The following generation flags are not valid and may be ignored: ['early_stopping']. Set `TRANSFORMERS_VERBOSITY=info` for more details.\n",
      "The following generation flags are not valid and may be ignored: ['early_stopping']. Set `TRANSFORMERS_VERBOSITY=info` for more details.\n",
      "Testing Circuit:  80%|████████  | 40/50 [00:00<00:00, 77.71it/s]The following generation flags are not valid and may be ignored: ['early_stopping']. Set `TRANSFORMERS_VERBOSITY=info` for more details.\n",
      "The following generation flags are not valid and may be ignored: ['early_stopping']. Set `TRANSFORMERS_VERBOSITY=info` for more details.\n",
      "The following generation flags are not valid and may be ignored: ['early_stopping']. Set `TRANSFORMERS_VERBOSITY=info` for more details.\n",
      "The following generation flags are not valid and may be ignored: ['early_stopping']. Set `TRANSFORMERS_VERBOSITY=info` for more details.\n",
      "The following generation flags are not valid and may be ignored: ['early_stopping']. Set `TRANSFORMERS_VERBOSITY=info` for more details.\n",
      "The following generation flags are not valid and may be ignored: ['early_stopping']. Set `TRANSFORMERS_VERBOSITY=info` for more details.\n",
      "The following generation flags are not valid and may be ignored: ['early_stopping']. Set `TRANSFORMERS_VERBOSITY=info` for more details.\n"
     ]
    },
    {
     "name": "stdout",
     "output_type": "stream",
     "text": [
      "\n",
      "Prompt:      'When Patricia and Bob went to the office, Bob gave a letter to'\n",
      "Expected:    'Patricia'\n",
      "Generated:   ''\n",
      "Result:      ❌ INCORRECT\n",
      "\n",
      "Prompt:      'When Bob and Patricia went to the office, Patricia gave a report to'\n",
      "Expected:    'Bob'\n",
      "Generated:   ''\n",
      "Result:      ❌ INCORRECT\n",
      "\n",
      "Prompt:      'When Linda and Bob went to the park, Bob gave a book to'\n",
      "Expected:    'Linda'\n",
      "Generated:   ''\n",
      "Result:      ❌ INCORRECT\n",
      "\n",
      "Prompt:      'When Linda and Alice went to the school, Alice gave a key to'\n",
      "Expected:    'Linda'\n",
      "Generated:   ''\n",
      "Result:      ❌ INCORRECT\n",
      "\n",
      "Prompt:      'When Alice and Bob went to the office, Bob gave a book to'\n",
      "Expected:    'Alice'\n",
      "Generated:   ''\n",
      "Result:      ❌ INCORRECT\n",
      "\n",
      "Prompt:      'When James and Alice went to the cafe, Alice gave a key to'\n",
      "Expected:    'James'\n",
      "Generated:   ''\n",
      "Result:      ❌ INCORRECT\n",
      "\n",
      "Prompt:      'When Patricia and Linda went to the school, Linda gave a report to'\n",
      "Expected:    'Patricia'\n",
      "Generated:   ''\n",
      "Result:      ❌ INCORRECT\n",
      "\n",
      "Prompt:      'When Bob and Mary went to the cafe, Mary gave a drink to'\n",
      "Expected:    'Bob'\n",
      "Generated:   ''\n",
      "Result:      ❌ INCORRECT\n",
      "\n",
      "Prompt:      'When Bob and Robert went to the park, Robert gave a report to'\n",
      "Expected:    'Bob'\n",
      "Generated:   ''\n",
      "Result:      ❌ INCORRECT\n",
      "\n",
      "Prompt:      'When Alice and Bob went to the cafe, Bob gave a report to'\n",
      "Expected:    'Alice'\n",
      "Generated:   ''\n",
      "Result:      ❌ INCORRECT\n",
      "\n",
      "Prompt:      'When John and Robert went to the park, Robert gave a key to'\n",
      "Expected:    'John'\n",
      "Generated:   ''\n",
      "Result:      ❌ INCORRECT\n",
      "\n",
      "Prompt:      'When James and Alice went to the school, Alice gave a letter to'\n",
      "Expected:    'James'\n",
      "Generated:   ''\n",
      "Result:      ❌ INCORRECT\n",
      "\n",
      "Prompt:      'When James and Alice went to the park, Alice gave a key to'\n",
      "Expected:    'James'\n",
      "Generated:   ''\n",
      "Result:      ❌ INCORRECT\n",
      "\n",
      "Prompt:      'When Robert and Patricia went to the school, Patricia gave a report to'\n",
      "Expected:    'Robert'\n",
      "Generated:   ''\n",
      "Result:      ❌ INCORRECT\n"
     ]
    },
    {
     "name": "stderr",
     "output_type": "stream",
     "text": [
      "The following generation flags are not valid and may be ignored: ['early_stopping']. Set `TRANSFORMERS_VERBOSITY=info` for more details.\n",
      "Testing Circuit:  96%|█████████▌| 48/50 [00:00<00:00, 77.99it/s]The following generation flags are not valid and may be ignored: ['early_stopping']. Set `TRANSFORMERS_VERBOSITY=info` for more details.\n"
     ]
    },
    {
     "name": "stdout",
     "output_type": "stream",
     "text": [
      "\n",
      "Prompt:      'When Linda and James went to the hospital, James gave a drink to'\n",
      "Expected:    'Linda'\n",
      "Generated:   ''\n",
      "Result:      ❌ INCORRECT\n",
      "\n",
      "Prompt:      'When Alice and James went to the cafe, James gave a book to'\n",
      "Expected:    'Alice'\n",
      "Generated:   ''\n",
      "Result:      ❌ INCORRECT\n"
     ]
    },
    {
     "name": "stderr",
     "output_type": "stream",
     "text": [
      "The following generation flags are not valid and may be ignored: ['early_stopping']. Set `TRANSFORMERS_VERBOSITY=info` for more details.\n",
      "Testing Circuit: 100%|██████████| 50/50 [00:00<00:00, 77.29it/s]"
     ]
    },
    {
     "name": "stdout",
     "output_type": "stream",
     "text": [
      "\n",
      "Prompt:      'When John and Bob went to the store, Bob gave a gift to'\n",
      "Expected:    'John'\n",
      "Generated:   ''\n",
      "Result:      ❌ INCORRECT\n",
      "\n",
      "Prompt:      'When John and James went to the office, James gave a gift to'\n",
      "Expected:    'John'\n",
      "Generated:   ''\n",
      "Result:      ❌ INCORRECT\n",
      "\n",
      "==================================================\n",
      "Circuit Performance Summary:\n",
      "Correct Predictions: 0 / 50\n",
      "Accuracy on IOI task: 0.00%\n",
      "==================================================\n"
     ]
    },
    {
     "name": "stderr",
     "output_type": "stream",
     "text": [
      "\n"
     ]
    },
    {
     "ename": "",
     "evalue": "",
     "output_type": "error",
     "traceback": [
      "\u001b[1;31mThe Kernel crashed while executing code in the current cell or a previous cell. \n",
      "\u001b[1;31mPlease review the code in the cell(s) to identify a possible cause of the failure. \n",
      "\u001b[1;31mClick <a href='https://aka.ms/vscodeJupyterKernelCrash'>here</a> for more info. \n",
      "\u001b[1;31mView Jupyter <a href='command:jupyter.viewOutput'>log</a> for further details."
     ]
    }
   ],
   "source": [
    "# ==============================================================================\n",
    "# 4. MAIN EXECUTION (Updated)\n",
    "# ==============================================================================\n",
    "\n",
    "if __name__ == '__main__':\n",
    "    # --- Configuration ---\n",
    "    MODEL_NAME = 'gpt2'\n",
    "    NUM_EPOCHS = 5\n",
    "    LEARNING_RATE = 1e-2 \n",
    "    BATCH_SIZE = 16\n",
    "    DEVICE = 'cuda' if torch.cuda.is_available() else 'cpu'\n",
    "\n",
    "    # --- Setup Model and Tokenizer ---\n",
    "    pruning_config = PruningConfig()\n",
    "    model = CircuitDiscoveryGPT2.from_pretrained_with_pruning(MODEL_NAME, pruning_config)\n",
    "    tokenizer = GPT2Tokenizer.from_pretrained(MODEL_NAME)\n",
    "    if tokenizer.pad_token is None:\n",
    "        tokenizer.pad_token = tokenizer.eos_token # Set pad token for batching\n",
    "    model.to(DEVICE)\n",
    "\n",
    "    # --- Freeze Backbone, Isolate Gate Parameters ---\n",
    "    gate_params = []\n",
    "    total_params = 0\n",
    "    for name, param in model.named_parameters():\n",
    "        total_params += param.numel()\n",
    "        if 'gate' in name:\n",
    "            gate_params.append(param)\n",
    "            param.requires_grad = True \n",
    "        else:\n",
    "            param.requires_grad = False \n",
    "\n",
    "    trainable_params = sum(p.numel() for p in gate_params)\n",
    "    print(f\"Device: {DEVICE}\")\n",
    "    print(f\"Total Model Parameters: {total_params / 1e6:.2f}M\")\n",
    "    print(f\"Trainable Gate Parameters: {trainable_params} ({(trainable_params / total_params) * 100:.4f}% of total)\")\n",
    "\n",
    "    # --- Setup Optimizer ---\n",
    "    optimizer = AdamW(gate_params, lr=LEARNING_RATE)\n",
    "\n",
    "    # --- Prepare Dataset ---\n",
    "    names = [\"Mary\", \"John\", \"Alice\", \"Bob\", \"Patricia\", \"James\", \"Linda\", \"Robert\"]\n",
    "    locations = [\"store\", \"park\", \"cafe\", \"office\", \"school\", \"hospital\"]\n",
    "    objects = [\"drink\", \"book\", \"gift\", \"letter\", \"key\", \"report\"]\n",
    "    \n",
    "    ioi_data = [generate_ioi_sample(names, locations, objects) for _ in range(2000)]\n",
    "    ioi_dataset = IOIDataset(ioi_data, tokenizer)\n",
    "    train_dataloader = DataLoader(ioi_dataset, batch_size=BATCH_SIZE, shuffle=True)\n",
    "\n",
    "    # --- Train the Circuit ---\n",
    "    trainer = CircuitTrainer(model, tokenizer, device=DEVICE)\n",
    "    trainer.train(train_dataloader, optimizer, num_epochs=NUM_EPOCHS)\n",
    "\n",
    "    # --- Analyze the Result ---\n",
    "    model.apply_circuit_mask(verbose=True)\n",
    "    trainer.visualize_circuit_stats()\n",
    "    \n",
    "    # =======================================================================\n",
    "    # NEW: Test the pruned circuit on unseen data\n",
    "    # =======================================================================\n",
    "    \n",
    "    # Generate a fresh, unseen test set\n",
    "    print(\"\\nGenerating a new set of unseen samples for testing...\")\n",
    "    ioi_test_data = [generate_ioi_sample(names, locations, objects) for _ in range(50)]\n",
    "\n",
    "    # Run the inference test\n",
    "    test_ioi_circuit(model, tokenizer, ioi_test_data, DEVICE)"
   ]
  },
  {
   "cell_type": "code",
   "execution_count": 1,
   "id": "b6a534ef",
   "metadata": {},
   "outputs": [
    {
     "ename": "TypeError",
     "evalue": "Sigmoid.__init__() takes 1 positional argument but 2 were given",
     "output_type": "error",
     "traceback": [
      "\u001b[31m---------------------------------------------------------------------------\u001b[39m",
      "\u001b[31mTypeError\u001b[39m                                 Traceback (most recent call last)",
      "\u001b[36mCell\u001b[39m\u001b[36m \u001b[39m\u001b[32mIn[1]\u001b[39m\u001b[32m, line 2\u001b[39m\n\u001b[32m      1\u001b[39m \u001b[38;5;28;01mimport\u001b[39;00m\u001b[38;5;250m \u001b[39m\u001b[34;01mtorch\u001b[39;00m\n\u001b[32m----> \u001b[39m\u001b[32m2\u001b[39m \u001b[43mtorch\u001b[49m\u001b[43m.\u001b[49m\u001b[43mnn\u001b[49m\u001b[43m.\u001b[49m\u001b[43mSigmoid\u001b[49m\u001b[43m(\u001b[49m\u001b[43m-\u001b[49m\u001b[32;43m100\u001b[39;49m\u001b[43m)\u001b[49m\n",
      "\u001b[36mFile \u001b[39m\u001b[32m~/anaconda3/envs/CD/lib/python3.12/site-packages/torch/nn/modules/module.py:478\u001b[39m, in \u001b[36mModule.__init__\u001b[39m\u001b[34m(self, *args, **kwargs)\u001b[39m\n\u001b[32m    472\u001b[39m     \u001b[38;5;28;01mraise\u001b[39;00m \u001b[38;5;167;01mTypeError\u001b[39;00m(\n\u001b[32m    473\u001b[39m         \u001b[33mf\u001b[39m\u001b[33m\"\u001b[39m\u001b[38;5;132;01m{\u001b[39;00m\u001b[38;5;28mtype\u001b[39m(\u001b[38;5;28mself\u001b[39m).\u001b[34m__name__\u001b[39m\u001b[38;5;132;01m}\u001b[39;00m\u001b[33m.__init__() got an unexpected keyword argument \u001b[39m\u001b[33m'\u001b[39m\u001b[38;5;132;01m{\u001b[39;00m\u001b[38;5;28mnext\u001b[39m(\u001b[38;5;28miter\u001b[39m(kwargs))\u001b[38;5;132;01m}\u001b[39;00m\u001b[33m'\u001b[39m\u001b[33m\"\u001b[39m\n\u001b[32m    474\u001b[39m         \u001b[33m\"\u001b[39m\u001b[33m\"\u001b[39m\n\u001b[32m    475\u001b[39m     )\n\u001b[32m    477\u001b[39m \u001b[38;5;28;01mif\u001b[39;00m \u001b[38;5;28mself\u001b[39m.call_super_init \u001b[38;5;129;01mis\u001b[39;00m \u001b[38;5;28;01mFalse\u001b[39;00m \u001b[38;5;129;01mand\u001b[39;00m \u001b[38;5;28mbool\u001b[39m(args):\n\u001b[32m--> \u001b[39m\u001b[32m478\u001b[39m     \u001b[38;5;28;01mraise\u001b[39;00m \u001b[38;5;167;01mTypeError\u001b[39;00m(\n\u001b[32m    479\u001b[39m         \u001b[33mf\u001b[39m\u001b[33m\"\u001b[39m\u001b[38;5;132;01m{\u001b[39;00m\u001b[38;5;28mtype\u001b[39m(\u001b[38;5;28mself\u001b[39m).\u001b[34m__name__\u001b[39m\u001b[38;5;132;01m}\u001b[39;00m\u001b[33m.__init__() takes 1 positional argument but \u001b[39m\u001b[38;5;132;01m{\u001b[39;00m\u001b[38;5;28mlen\u001b[39m(args)\u001b[38;5;250m \u001b[39m+\u001b[38;5;250m \u001b[39m\u001b[32m1\u001b[39m\u001b[38;5;132;01m}\u001b[39;00m\u001b[33m were\u001b[39m\u001b[33m\"\u001b[39m\n\u001b[32m    480\u001b[39m         \u001b[33m\"\u001b[39m\u001b[33m given\u001b[39m\u001b[33m\"\u001b[39m\n\u001b[32m    481\u001b[39m     )\n\u001b[32m    483\u001b[39m \u001b[38;5;250m\u001b[39m\u001b[33;03m\"\"\"\u001b[39;00m\n\u001b[32m    484\u001b[39m \u001b[33;03mCalls super().__setattr__('a', a) instead of the typical self.a = a\u001b[39;00m\n\u001b[32m    485\u001b[39m \u001b[33;03mto avoid Module.__setattr__ overhead. Module's __setattr__ has special\u001b[39;00m\n\u001b[32m    486\u001b[39m \u001b[33;03mhandling for parameters, submodules, and buffers but simply calls into\u001b[39;00m\n\u001b[32m    487\u001b[39m \u001b[33;03msuper().__setattr__ for all other attributes.\u001b[39;00m\n\u001b[32m    488\u001b[39m \u001b[33;03m\"\"\"\u001b[39;00m\n\u001b[32m    489\u001b[39m \u001b[38;5;28msuper\u001b[39m().\u001b[34m__setattr__\u001b[39m(\u001b[33m\"\u001b[39m\u001b[33mtraining\u001b[39m\u001b[33m\"\u001b[39m, \u001b[38;5;28;01mTrue\u001b[39;00m)\n",
      "\u001b[31mTypeError\u001b[39m: Sigmoid.__init__() takes 1 positional argument but 2 were given"
     ]
    }
   ],
   "source": [
    "import torch\n",
    "torch.nn.Sigmoid(-100)"
   ]
  },
  {
   "cell_type": "code",
   "execution_count": 2,
   "id": "168f7ea1",
   "metadata": {},
   "outputs": [
    {
     "name": "stdout",
     "output_type": "stream",
     "text": [
      "Prompt: 'When John and Robert went to the school, Robert gave a gift to'\n",
      "Expected IO: 'John'\n",
      "Giver (S): 'Robert'\n"
     ]
    }
   ],
   "source": [
    "import random\n",
    "\n",
    "# Define components for sentence generation\n",
    "names = [\"Mary\", \"John\", \"Alice\", \"Bob\", \"Patricia\", \"James\", \"Linda\", \"Robert\"]\n",
    "locations = [\"store\", \"park\", \"cafe\", \"office\", \"school\", \"hospital\"]\n",
    "objects = [\"drink\", \"book\", \"gift\", \"letter\", \"key\", \"report\"]\n",
    "\n",
    "def generate_ioi_sample(names_list, locations_list, objects_list):\n",
    "    # Ensure at least two distinct names\n",
    "    if len(names_list) < 2:\n",
    "        raise ValueError(\"Need at least two names for IOI.\")\n",
    "    s_name, io_name = random.sample(names_list, 2) # Subject and Indirect Object\n",
    "\n",
    "    # Randomly choose who gives the object\n",
    "    giver = s_name\n",
    "    receiver = io_name\n",
    "    # Or, to make it more robust, sometimes flip them\n",
    "    # if random.random() < 0.5:\n",
    "    #     giver, receiver = receiver, giver\n",
    "\n",
    "    loc = random.choice(locations_list)\n",
    "    obj = random.choice(objects_list)\n",
    "\n",
    "    # Template: \"When [IO_Name] and [S_Name] went to the [Location], [S_Name] gave a [Object] to \"\n",
    "    # The model should predict [IO_Name]\n",
    "    # More robust template from the paper:\n",
    "    # \"[S_Name] and [IO_Name] went to the [Location]. Then [S_Name] gave a [Object] to\" -> [IO_Name]\n",
    "    # Let's use a common one:\n",
    "    # sentence_prompt = f\"{s_name} and {io_name} went to the {loc}. Then {s_name} gave the {obj} to\"\n",
    "    # For your example: \"When Mary and John went to the store, John gave a drink to \" -> Mary\n",
    "    # Here, John is S, Mary is IO.\n",
    "    # Let's call them Name1 and Name2.\n",
    "    name1, name2 = random.sample(names_list, 2)\n",
    "    location = random.choice(locations_list)\n",
    "    obj_item = random.choice(objects_list)\n",
    "\n",
    "    # Scenario 1: Name2 is the IO\n",
    "    # \"When Name1 and Name2 went to the location, Name1 gave an object to\" -> Name2\n",
    "    # Scenario 2: Name1 is the IO\n",
    "    # \"When Name1 and Name2 went to the location, Name2 gave an object to\" -> Name1\n",
    "\n",
    "    # For your specific example: \"When Mary and John went to the store, John gave a drink to \"\n",
    "    # Here, Mary is the IO (the one *not* giving). John is S (the giver).\n",
    "    # Let's use distinct terms: giver_name, receiver_name\n",
    "    giver_name, receiver_name = random.sample(names_list, 2)\n",
    "\n",
    "    prompt = f\"When {receiver_name} and {giver_name} went to the {location}, {giver_name} gave a {obj_item} to\"\n",
    "    correct_completion = receiver_name # The model should predict the receiver_name\n",
    "\n",
    "    # Alternative template (simpler, often used)\n",
    "    # prompt = f\"{giver_name} and {receiver_name} went to the {location}. {giver_name} gave the {obj_item} to\"\n",
    "    # correct_completion = receiver_name\n",
    "\n",
    "    return {\n",
    "        \"prompt\": prompt,\n",
    "        \"target_S\": giver_name,  # Subject / Giver\n",
    "        \"target_IO\": receiver_name, # Indirect Object / Receiver\n",
    "        \"full_sentence_for_completion\": f\"{prompt} {receiver_name}.\"\n",
    "    }\n",
    "\n",
    "# Generate a few samples\n",
    "ioi_dataset = [generate_ioi_sample(names, locations, objects) for _ in range(100)] # Create 100 samples\n",
    "\n",
    "# Example:\n",
    "sample = ioi_dataset[0]\n",
    "print(f\"Prompt: '{sample['prompt']}'\")\n",
    "print(f\"Expected IO: '{sample['target_IO']}'\")\n",
    "print(f\"Giver (S): '{sample['target_S']}'\")"
   ]
  },
  {
   "cell_type": "code",
   "execution_count": 4,
   "id": "2ec08b07",
   "metadata": {},
   "outputs": [],
   "source": [
    "from datasets import load_dataset\n",
    "\n",
    "ds = load_dataset(\"fahamu/ioi\")"
   ]
  },
  {
   "cell_type": "code",
   "execution_count": 5,
   "id": "758021b7",
   "metadata": {},
   "outputs": [
    {
     "data": {
      "text/plain": [
       "{'ioi_sentences': 'Friends Juana and Kristi found a mango at the bar. Kristi gave it to Juana'}"
      ]
     },
     "execution_count": 5,
     "metadata": {},
     "output_type": "execute_result"
    }
   ],
   "source": [
    "ds['train'][0]"
   ]
  },
  {
   "cell_type": "code",
   "execution_count": 3,
   "id": "c8293aea",
   "metadata": {},
   "outputs": [
    {
     "name": "stdout",
     "output_type": "stream",
     "text": [
      "Base_Model Sample Evaluation:\n",
      "\n",
      "IOI Sample Evaluation:\n",
      "  Prompt: 'When John and Robert went to the school, Robert gave a gift to '\n",
      "  Target IO: 'John' (Token ID: 1757)\n",
      "  Target S (distractor): 'Robert' (Token ID: 5199)\n",
      "  Predicted Token: '' (ID: 1849)\n",
      "  Logit for Correct IO (John): -70.30\n",
      "  Logit for S (Robert): -70.08\n",
      "  Is correct (top prediction is IO)?: False\n",
      "Prunable Model Sample Evaluation:\n",
      "\n",
      "IOI Sample Evaluation:\n",
      "  Prompt: 'When John and Robert went to the school, Robert gave a gift to '\n",
      "  Target IO: 'John' (Token ID: 1757)\n",
      "  Target S (distractor): 'Robert' (Token ID: 5199)\n",
      "  Predicted Token: '' (ID: 1849)\n",
      "  Logit for Correct IO (John): -70.30\n",
      "  Logit for S (Robert): -70.08\n",
      "  Is correct (top prediction is IO)?: False\n"
     ]
    }
   ],
   "source": [
    "import torch\n",
    "device = \"cuda\" if torch.cuda.is_available() else \"cpu\"\n",
    "# model = base_model\n",
    "model.to(device)  # Ensure the model is on the correct device\n",
    "base_model.to(device)  # Ensure the base model is also on the correct device\n",
    "def get_ioi_predictions(model, tokenizer, ioi_sample, device):\n",
    "    prompt_text = ioi_sample['prompt']\n",
    "    # Tokenize the prompt. Ensure it ends with a space if the names are separate words.\n",
    "    # For names like \"Mary\", they are often single tokens.\n",
    "    # If the prompt is \"John gave a drink to\", the next token should be the first token of \"Mary\".\n",
    "    # Many names are single tokens for GPT-2's tokenizer.\n",
    "    # We might need to add a space at the end of the prompt to ensure the name is predicted as a whole word.\n",
    "    # Or, handle multi-token names if necessary.\n",
    "    if not prompt_text.endswith(\" \"):\n",
    "        prompt_text += \" \"\n",
    "\n",
    "    inputs = tokenizer(prompt_text, return_tensors='pt', padding=True).to(device)\n",
    "    input_ids = inputs.input_ids\n",
    "\n",
    "    with torch.no_grad():\n",
    "        outputs = model(input_ids)\n",
    "        logits = outputs[\"logits\"]\n",
    "\n",
    "    # We care about the logits for the *next* token after the prompt\n",
    "    next_token_logits = logits[0, -1, :] # Batch size 1, last token's logits\n",
    "\n",
    "    # Get the token IDs for the target IO and S names\n",
    "    # Add a leading space to tokenizer for names to match how they often appear after a space.\n",
    "    target_io_token_id = tokenizer.encode(\" \" + ioi_sample['target_IO'], add_special_tokens=False)\n",
    "    target_s_token_id = tokenizer.encode(\" \" + ioi_sample['target_S'], add_special_tokens=False)\n",
    "\n",
    "    # Handle if names are multi-token (for simplicity, assume single token for now)\n",
    "    # This is a simplification; robust IOI checks if the *first* token of the name is predicted.\n",
    "    if len(target_io_token_id) == 0 or len(target_s_token_id) == 0:\n",
    "        return {\n",
    "            \"prompt\": prompt_text,\n",
    "            \"predicted_token_id\": None,\n",
    "            \"predicted_token_str\": \"[ERROR: Empty token for name]\",\n",
    "            \"logit_IO\": -float('inf'),\n",
    "            \"logit_S\": -float('inf'),\n",
    "            \"is_correct\": False\n",
    "        }\n",
    "\n",
    "    target_io_token_id = target_io_token_id[0]\n",
    "    target_s_token_id = target_s_token_id[0]\n",
    "\n",
    "\n",
    "    logit_for_io = next_token_logits[target_io_token_id].item()\n",
    "    logit_for_s = next_token_logits[target_s_token_id].item()\n",
    "\n",
    "    # Get the predicted token\n",
    "    predicted_token_id = torch.argmax(next_token_logits).item()\n",
    "    predicted_token_str = tokenizer.decode(predicted_token_id)\n",
    "\n",
    "    is_correct = (predicted_token_id == target_io_token_id)\n",
    "\n",
    "    return {\n",
    "        \"prompt\": prompt_text,\n",
    "        \"predicted_token_id\": predicted_token_id,\n",
    "        \"predicted_token_str\": predicted_token_str.strip(), # strip potential leading space\n",
    "        \"logit_IO\": logit_for_io,\n",
    "        \"logit_S\": logit_for_s,\n",
    "        \"is_correct\": is_correct,\n",
    "        \"target_IO_token_id\": target_io_token_id,\n",
    "        \"target_S_token_id\": target_s_token_id\n",
    "    }\n",
    "\n",
    "# Example usage:\n",
    "if len(ioi_dataset) > 0:\n",
    "    print(\"Base_Model Sample Evaluation:\")\n",
    "    sample_result = get_ioi_predictions(base_model, tokenizer, ioi_dataset[0], device)\n",
    "    print(\"\\nIOI Sample Evaluation:\")\n",
    "    print(f\"  Prompt: '{sample_result['prompt']}'\")\n",
    "    print(f\"  Target IO: '{ioi_dataset[0]['target_IO']}' (Token ID: {sample_result['target_IO_token_id']})\")\n",
    "    print(f\"  Target S (distractor): '{ioi_dataset[0]['target_S']}' (Token ID: {sample_result['target_S_token_id']})\")\n",
    "    print(f\"  Predicted Token: '{sample_result['predicted_token_str']}' (ID: {sample_result['predicted_token_id']})\")\n",
    "    print(f\"  Logit for Correct IO ({ioi_dataset[0]['target_IO']}): {sample_result['logit_IO']:.2f}\")\n",
    "    print(f\"  Logit for S ({ioi_dataset[0]['target_S']}): {sample_result['logit_S']:.2f}\")\n",
    "    print(f\"  Is correct (top prediction is IO)?: {sample_result['is_correct']}\")\n",
    "    \n",
    "if len(ioi_dataset) > 0:\n",
    "    print(\"Prunable Model Sample Evaluation:\")\n",
    "    sample_result = get_ioi_predictions(model, tokenizer, ioi_dataset[0], device)\n",
    "    print(\"\\nIOI Sample Evaluation:\")\n",
    "    print(f\"  Prompt: '{sample_result['prompt']}'\")\n",
    "    print(f\"  Target IO: '{ioi_dataset[0]['target_IO']}' (Token ID: {sample_result['target_IO_token_id']})\")\n",
    "    print(f\"  Target S (distractor): '{ioi_dataset[0]['target_S']}' (Token ID: {sample_result['target_S_token_id']})\")\n",
    "    print(f\"  Predicted Token: '{sample_result['predicted_token_str']}' (ID: {sample_result['predicted_token_id']})\")\n",
    "    print(f\"  Logit for Correct IO ({ioi_dataset[0]['target_IO']}): {sample_result['logit_IO']:.2f}\")\n",
    "    print(f\"  Logit for S ({ioi_dataset[0]['target_S']}): {sample_result['logit_S']:.2f}\")\n",
    "    print(f\"  Is correct (top prediction is IO)?: {sample_result['is_correct']}\")"
   ]
  },
  {
   "cell_type": "code",
   "execution_count": 4,
   "id": "8ab81d08",
   "metadata": {},
   "outputs": [
    {
     "name": "stdout",
     "output_type": "stream",
     "text": [
      "\n",
      "--- IOI Task Evaluation ---\n",
      "Accuracy: 0.00%\n",
      "Average Logit Difference (IO - S): 0.33\n",
      "Total samples evaluated: 100\n"
     ]
    }
   ],
   "source": [
    "def evaluate_ioi_dataset(model, tokenizer, dataset, device):\n",
    "    correct_predictions = 0\n",
    "    total_predictions = len(dataset)\n",
    "    logit_diffs = []\n",
    "    all_results = []\n",
    "\n",
    "    for sample in dataset:\n",
    "        # Ensure names are in the tokenizer's vocabulary as single tokens (with leading space) for this simplified eval\n",
    "        # A more robust check might be needed if names are multi-token or not perfectly tokenized\n",
    "        io_token_ids = tokenizer.encode(\" \" + sample['target_IO'], add_special_tokens=False)\n",
    "        s_token_ids = tokenizer.encode(\" \" + sample['target_S'], add_special_tokens=False)\n",
    "\n",
    "        if not io_token_ids or not s_token_ids:\n",
    "            print(f\"Warning: Could not tokenize IO ('{sample['target_IO']}') or S ('{sample['target_S']}') properly. Skipping sample: {sample['prompt']}\")\n",
    "            total_predictions -=1 # Adjust total count\n",
    "            continue\n",
    "\n",
    "\n",
    "        result = get_ioi_predictions(model, tokenizer, sample, device)\n",
    "        all_results.append(result)\n",
    "\n",
    "        if result['is_correct']:\n",
    "            correct_predictions += 1\n",
    "        if result['logit_IO'] > -float('inf') and result['logit_S'] > -float('inf'): # Ensure valid logits\n",
    "             logit_diffs.append(result['logit_IO'] - result['logit_S'])\n",
    "\n",
    "    accuracy = (correct_predictions / total_predictions) * 100 if total_predictions > 0 else 0\n",
    "    avg_logit_diff = sum(logit_diffs) / len(logit_diffs) if len(logit_diffs) > 0 else float('nan')\n",
    "\n",
    "    return {\n",
    "        \"accuracy\": accuracy,\n",
    "        \"average_logit_difference_IO_S\": avg_logit_diff,\n",
    "        \"num_samples_evaluated\": total_predictions,\n",
    "        \"individual_results\": all_results\n",
    "    }\n",
    "\n",
    "# Run evaluation\n",
    "ioi_eval_results = evaluate_ioi_dataset(model, tokenizer, ioi_dataset, device)\n",
    "print(\"\\n--- IOI Task Evaluation ---\")\n",
    "print(f\"Accuracy: {ioi_eval_results['accuracy']:.2f}%\")\n",
    "print(f\"Average Logit Difference (IO - S): {ioi_eval_results['average_logit_difference_IO_S']:.2f}\")\n",
    "print(f\"Total samples evaluated: {ioi_eval_results['num_samples_evaluated']}\")"
   ]
  },
  {
   "cell_type": "code",
   "execution_count": 5,
   "id": "b07a4c70",
   "metadata": {},
   "outputs": [
    {
     "name": "stdout",
     "output_type": "stream",
     "text": [
      "Prompt: 'It was effective from 1785 until 17'\n",
      "Start Year: 1785\n",
      "Year Prefix (for prompt): '17'\n",
      "Threshold Suffix (prediction must be > this): 85\n"
     ]
    }
   ],
   "source": [
    "def generate_greater_than_sample():\n",
    "    start_year = random.randint(1000, 2025) # Full start year\n",
    "    year_prefix = str(start_year)[:2] # First two digits (e.g., \"17\" from 1732)\n",
    "    year_suffix_val = int(str(start_year)[2:]) # Last two digits as int (e.g., 32 from 1732)\n",
    "\n",
    "    # Create a context sentence\n",
    "    contexts = [\n",
    "        \"The treaty was signed from the year {start_year} to the year {year_prefix}\",\n",
    "        \"It was effective from {start_year} until {year_prefix}\",\n",
    "        \"The records span {start_year} through {year_prefix}\",\n",
    "        \"The period lasted from the year {start_year} to the year {year_prefix}\"\n",
    "    ]\n",
    "    prompt_template = random.choice(contexts)\n",
    "    prompt = prompt_template.format(start_year=start_year, year_prefix=year_prefix)\n",
    "\n",
    "    return {\n",
    "        \"prompt\": prompt,\n",
    "        \"start_year\": start_year,\n",
    "        \"year_prefix\": year_prefix, # e.g. \"17\"\n",
    "        \"threshold_suffix\": year_suffix_val # e.g. 32. The prediction must be > this.\n",
    "    }\n",
    "\n",
    "# Generate a dataset\n",
    "greater_than_dataset = [generate_greater_than_sample() for _ in range(100)]\n",
    "\n",
    "# Example:\n",
    "sample_gt = greater_than_dataset[0]\n",
    "print(f\"Prompt: '{sample_gt['prompt']}'\")\n",
    "print(f\"Start Year: {sample_gt['start_year']}\")\n",
    "print(f\"Year Prefix (for prompt): '{sample_gt['year_prefix']}'\")\n",
    "print(f\"Threshold Suffix (prediction must be > this): {sample_gt['threshold_suffix']}\")"
   ]
  },
  {
   "cell_type": "code",
   "execution_count": 6,
   "id": "3cdfc582",
   "metadata": {},
   "outputs": [
    {
     "name": "stderr",
     "output_type": "stream",
     "text": [
      "The attention mask is not set and cannot be inferred from input because pad token is same as eos token. As a consequence, you may observe unexpected behavior. Please pass your input's `attention_mask` to obtain reliable results.\n"
     ]
    },
    {
     "name": "stdout",
     "output_type": "stream",
     "text": [
      "\n",
      "Greater-Than Sample Evaluation:\n",
      "  Prompt: 'It was effective from 1785 until 17'\n",
      "  Start Year: 1785\n",
      "  Threshold Suffix: > 85\n",
      "  Generated Text (raw): '90,'\n",
      "  Predicted Suffix (parsed): '90' (Value: 90)\n",
      "  Is valid two-digit format?: True\n",
      "  Is correct (prediction > threshold)?: True\n"
     ]
    }
   ],
   "source": [
    "def get_greater_than_predictions(model, tokenizer, gt_sample, device, max_new_tokens=2):\n",
    "    prompt_text = gt_sample['prompt']\n",
    "    # Ensure the prompt ends with the prefix and potentially a space if needed\n",
    "    # e.g., \"... to the year 17\"\n",
    "    # The model should predict \"33\", \"34\", ... \"99\" for start_year 1732\n",
    "    if not prompt_text.endswith(gt_sample['year_prefix']):\n",
    "         # This should not happen if data gen is correct, but as a safeguard:\n",
    "        print(f\"Warning: Prompt '{prompt_text}' doesn't end with prefix '{gt_sample['year_prefix']}'\")\n",
    "\n",
    "    inputs = tokenizer(prompt_text, return_tensors='pt').to(device)\n",
    "\n",
    "    # Generate the next two tokens\n",
    "    # Using greedy decoding here. For more nuanced analysis, you might look at logits directly.\n",
    "    outputs = model.generate(\n",
    "        inputs.input_ids,\n",
    "        max_new_tokens=max_new_tokens,\n",
    "        pad_token_id=tokenizer.eos_token_id,\n",
    "        eos_token_id=tokenizer.eos_token_id, # Stop if EOS is generated\n",
    "        num_return_sequences=1,\n",
    "        do_sample=False # Greedy\n",
    "    )\n",
    "\n",
    "    # Extract only the generated tokens\n",
    "    generated_ids = outputs[0, inputs.input_ids.shape[1]:]\n",
    "    generated_text = tokenizer.decode(generated_ids, skip_special_tokens=True)\n",
    "\n",
    "    # Try to parse the generated text as two digits\n",
    "    predicted_suffix_str = \"\"\n",
    "    predicted_suffix_val = -1 # Default to invalid\n",
    "    is_valid_format = False # Was it two digits?\n",
    "\n",
    "    # We expect two digits. Let's check the raw generated tokens for digits.\n",
    "    digit_tokens = []\n",
    "    current_num_str = \"\"\n",
    "\n",
    "    for token_id in generated_ids:\n",
    "        token_str = tokenizer.decode(token_id)\n",
    "        # Check if the token string itself is a digit or part of a multi-digit number token\n",
    "        if token_str.strip().isdigit():\n",
    "            current_num_str += token_str.strip()\n",
    "            if len(current_num_str) >= 2:\n",
    "                break\n",
    "        else: # if a non-digit is generated early, stop.\n",
    "            break\n",
    "\n",
    "    if len(current_num_str) == 2 and current_num_str.isdigit():\n",
    "        predicted_suffix_str = current_num_str\n",
    "        predicted_suffix_val = int(current_num_str)\n",
    "        is_valid_format = True\n",
    "\n",
    "    is_correct_greater_than = False\n",
    "    if is_valid_format:\n",
    "        is_correct_greater_than = (predicted_suffix_val > gt_sample['threshold_suffix'] and predicted_suffix_val <=99)\n",
    "\n",
    "    return {\n",
    "        \"prompt\": prompt_text,\n",
    "        \"start_year\": gt_sample['start_year'],\n",
    "        \"threshold_suffix\": gt_sample['threshold_suffix'],\n",
    "        \"generated_text_full\": generated_text,\n",
    "        \"predicted_suffix_str\": predicted_suffix_str, # The two digits like \"35\"\n",
    "        \"predicted_suffix_val\": predicted_suffix_val, # The integer value like 35\n",
    "        \"is_valid_two_digit_format\": is_valid_format,\n",
    "        \"is_correct_greater_than\": is_correct_greater_than\n",
    "    }\n",
    "\n",
    "\n",
    "# Example usage:\n",
    "if len(greater_than_dataset) > 0:\n",
    "    sample_gt_result = get_greater_than_predictions(model, tokenizer, greater_than_dataset[0], device)\n",
    "    print(\"\\nGreater-Than Sample Evaluation:\")\n",
    "    print(f\"  Prompt: '{sample_gt_result['prompt']}'\")\n",
    "    print(f\"  Start Year: {sample_gt_result['start_year']}\")\n",
    "    print(f\"  Threshold Suffix: > {sample_gt_result['threshold_suffix']}\")\n",
    "    print(f\"  Generated Text (raw): '{sample_gt_result['generated_text_full']}'\")\n",
    "    print(f\"  Predicted Suffix (parsed): '{sample_gt_result['predicted_suffix_str']}' (Value: {sample_gt_result['predicted_suffix_val']})\")\n",
    "    print(f\"  Is valid two-digit format?: {sample_gt_result['is_valid_two_digit_format']}\")\n",
    "    print(f\"  Is correct (prediction > threshold)?: {sample_gt_result['is_correct_greater_than']}\")"
   ]
  },
  {
   "cell_type": "code",
   "execution_count": null,
   "id": "b7c1519e",
   "metadata": {},
   "outputs": [
    {
     "name": "stdout",
     "output_type": "stream",
     "text": [
      "\n",
      "--- Greater-Than Task Evaluation ---\n",
      "Format Adherence Rate (generated two digits): 99.00%\n",
      "Strict Accuracy (valid format AND correct logic): 90.00%\n",
      "Valid Range Accuracy (if two digits, was logic correct?): 90.91%\n",
      "Total samples: 100\n",
      "Number of valid two-digit generations: 99\n",
      "Number of correct logic predictions: 90\n"
     ]
    }
   ],
   "source": [
    "def evaluate_greater_than_dataset(model, tokenizer, dataset, device):\n",
    "    num_valid_format = 0\n",
    "    num_correct_greater_than = 0\n",
    "    total_samples = len(dataset)\n",
    "    all_results = []\n",
    "\n",
    "    for sample in dataset:\n",
    "        result = get_greater_than_predictions(model, tokenizer, sample, device)\n",
    "        all_results.append(result)\n",
    "\n",
    "        if result['is_valid_two_digit_format']:\n",
    "            num_valid_format += 1\n",
    "            if result['is_correct_greater_than']:\n",
    "                num_correct_greater_than += 1\n",
    "\n",
    "    format_adherence_rate = (num_valid_format / total_samples) * 100 if total_samples > 0 else 0\n",
    "    # Strict accuracy: must be valid format AND correct comparison\n",
    "    strict_accuracy = (num_correct_greater_than / total_samples) * 100 if total_samples > 0 else 0\n",
    "    # Conditional accuracy: if it gave two digits, was the comparison correct?\n",
    "    valid_range_accuracy = (num_correct_greater_than / num_valid_format) * 100 if num_valid_format > 0 else 0\n",
    "\n",
    "\n",
    "    return {\n",
    "        \"format_adherence_rate\": format_adherence_rate,\n",
    "        \"strict_accuracy\": strict_accuracy,\n",
    "        \"valid_range_accuracy_given_correct_format\": valid_range_accuracy,\n",
    "        \"num_samples_evaluated\": total_samples,\n",
    "        \"num_valid_format_generated\": num_valid_format,\n",
    "        \"num_correct_logic\": num_correct_greater_than,\n",
    "        \"individual_results\": all_results\n",
    "    }\n",
    "\n",
    "# Run evaluation\n",
    "gt_eval_results = evaluate_greater_than_dataset(model, tokenizer, greater_than_dataset, device)\n",
    "print(\"\\n--- Greater-Than Task Evaluation ---\")\n",
    "print(f\"Format Adherence Rate (generated two digits): {gt_eval_results['format_adherence_rate']:.2f}%\")\n",
    "print(f\"Strict Accuracy (valid format AND correct logic): {gt_eval_results['strict_accuracy']:.2f}%\")\n",
    "print(f\"Valid Range Accuracy (if two digits, was logic correct?): {gt_eval_results['valid_range_accuracy_given_correct_format']:.2f}%\")\n",
    "print(f\"Total samples: {gt_eval_results['num_samples_evaluated']}\")\n",
    "print(f\"Number of valid two-digit generations: {gt_eval_results['num_valid_format_generated']}\")\n",
    "print(f\"Number of correct logic predictions: {gt_eval_results['num_correct_logic']}\")"
   ]
  },
  {
   "cell_type": "code",
   "execution_count": 12,
   "id": "c189f7ab",
   "metadata": {},
   "outputs": [],
   "source": [
    "from datasets import load_from_disk\n",
    "\n",
    "# Path where the dataset from the paper's script was saved\n",
    "dataset_path = \"/u/amo-d1/grad/mha361/work/circuits/data/edge_pruning/datasets/ioi\" \n",
    "data = load_from_disk(dataset_path)\n"
   ]
  },
  {
   "cell_type": "code",
   "execution_count": 13,
   "id": "c35d9a13",
   "metadata": {},
   "outputs": [
    {
     "data": {
      "text/plain": [
       "DatasetDict({\n",
       "    train: Dataset({\n",
       "        features: ['a', 'b', 'object', 'place', 'template', 'order', 'ioi_sentences', 'corr_a', 'corr_b', 'corr_object', 'corr_place', 'corr_template', 'corr_order', 'corr_ioi_sentences'],\n",
       "        num_rows: 200\n",
       "    })\n",
       "    train_400: Dataset({\n",
       "        features: ['a', 'b', 'object', 'place', 'template', 'order', 'ioi_sentences', 'corr_a', 'corr_b', 'corr_object', 'corr_place', 'corr_template', 'corr_order', 'corr_ioi_sentences'],\n",
       "        num_rows: 400\n",
       "    })\n",
       "    train_100k: Dataset({\n",
       "        features: ['a', 'b', 'object', 'place', 'template', 'order', 'ioi_sentences', 'corr_a', 'corr_b', 'corr_object', 'corr_place', 'corr_template', 'corr_order', 'corr_ioi_sentences'],\n",
       "        num_rows: 1000000\n",
       "    })\n",
       "    validation: Dataset({\n",
       "        features: ['a', 'b', 'object', 'place', 'template', 'order', 'ioi_sentences', 'corr_a', 'corr_b', 'corr_object', 'corr_place', 'corr_template', 'corr_order', 'corr_ioi_sentences'],\n",
       "        num_rows: 200\n",
       "    })\n",
       "    test: Dataset({\n",
       "        features: ['a', 'b', 'place', 'object', 'template', 'order', 'ioi_sentences', 'corr_a', 'corr_b', 'corr_place', 'corr_object', 'corr_template', 'corr_order', 'corr_ioi_sentences'],\n",
       "        num_rows: 36084\n",
       "    })\n",
       "})"
      ]
     },
     "execution_count": 13,
     "metadata": {},
     "output_type": "execute_result"
    }
   ],
   "source": [
    "data"
   ]
  },
  {
   "cell_type": "code",
   "execution_count": 14,
   "id": "8598c6f2",
   "metadata": {},
   "outputs": [
    {
     "data": {
      "text/plain": [
       "{'a': 'Angie',\n",
       " 'b': 'Yvette',\n",
       " 'object': 'banana',\n",
       " 'place': 'mountain',\n",
       " 'template': 'Then, {B} and {A} were working at the {PLACE}. {B} decided to give a {OBJECT} to {A}',\n",
       " 'order': 'baba',\n",
       " 'ioi_sentences': 'Then, Yvette and Angie were working at the mountain. Yvette decided to give a banana to Angie',\n",
       " 'corr_a': 'Evan',\n",
       " 'corr_b': 'Evelyn',\n",
       " 'corr_object': 'banana',\n",
       " 'corr_place': 'mountain',\n",
       " 'corr_template': 'Then, {B} and {A} were working at the {PLACE}. {B} decided to give a {OBJECT} to {A}',\n",
       " 'corr_order': 'baba',\n",
       " 'corr_ioi_sentences': 'Then, Evelyn and Evan were working at the mountain. Angelique decided to give a banana to Nathanael'}"
      ]
     },
     "execution_count": 14,
     "metadata": {},
     "output_type": "execute_result"
    }
   ],
   "source": [
    "data['train'][1]"
   ]
  },
  {
   "cell_type": "code",
   "execution_count": null,
   "id": "541ef544",
   "metadata": {},
   "outputs": [
    {
     "data": {
      "application/vnd.jupyter.widget-view+json": {
       "model_id": "505da524968d46c08b9a033b440790f5",
       "version_major": 2,
       "version_minor": 0
      },
      "text/plain": [
       "tokenizer_config.json:   0%|          | 0.00/619 [00:00<?, ?B/s]"
      ]
     },
     "metadata": {},
     "output_type": "display_data"
    },
    {
     "data": {
      "application/vnd.jupyter.widget-view+json": {
       "model_id": "c91b81bdb6ec4525a0556c6a588774e6",
       "version_major": 2,
       "version_minor": 0
      },
      "text/plain": [
       "vocab.json: 0.00B [00:00, ?B/s]"
      ]
     },
     "metadata": {},
     "output_type": "display_data"
    },
    {
     "data": {
      "application/vnd.jupyter.widget-view+json": {
       "model_id": "3112bb28f6914f8ca35752db83097548",
       "version_major": 2,
       "version_minor": 0
      },
      "text/plain": [
       "merges.txt: 0.00B [00:00, ?B/s]"
      ]
     },
     "metadata": {},
     "output_type": "display_data"
    },
    {
     "data": {
      "application/vnd.jupyter.widget-view+json": {
       "model_id": "53b3df29614c49ad9a24696df17c238b",
       "version_major": 2,
       "version_minor": 0
      },
      "text/plain": [
       "tokenizer.json: 0.00B [00:00, ?B/s]"
      ]
     },
     "metadata": {},
     "output_type": "display_data"
    },
    {
     "data": {
      "application/vnd.jupyter.widget-view+json": {
       "model_id": "9c298f18ed314e50b6a2b736c7b6a3c8",
       "version_major": 2,
       "version_minor": 0
      },
      "text/plain": [
       "added_tokens.json: 0.00B [00:00, ?B/s]"
      ]
     },
     "metadata": {},
     "output_type": "display_data"
    },
    {
     "data": {
      "application/vnd.jupyter.widget-view+json": {
       "model_id": "9e1b0e619ea146b88d9d10600e1ab090",
       "version_major": 2,
       "version_minor": 0
      },
      "text/plain": [
       "special_tokens_map.json:   0%|          | 0.00/357 [00:00<?, ?B/s]"
      ]
     },
     "metadata": {},
     "output_type": "display_data"
    },
    {
     "data": {
      "application/vnd.jupyter.widget-view+json": {
       "model_id": "c563b61ac3c54fdbbf9b4f091632feb9",
       "version_major": 2,
       "version_minor": 0
      },
      "text/plain": [
       "config.json:   0%|          | 0.00/930 [00:00<?, ?B/s]"
      ]
     },
     "metadata": {},
     "output_type": "display_data"
    },
    {
     "data": {
      "application/vnd.jupyter.widget-view+json": {
       "model_id": "a81dbacb412243a18bcbe5cf1c0c988b",
       "version_major": 2,
       "version_minor": 0
      },
      "text/plain": [
       "pytorch_model.bin:   0%|          | 0.00/24.2G [00:00<?, ?B/s]"
      ]
     },
     "metadata": {},
     "output_type": "display_data"
    },
    {
     "name": "stderr",
     "output_type": "stream",
     "text": [
      "Some weights of the model checkpoint at EleutherAI/gpt-j-6B were not used when initializing GPTJForCausalLM: ['transformer.h.0.attn.bias', 'transformer.h.0.attn.masked_bias', 'transformer.h.1.attn.bias', 'transformer.h.1.attn.masked_bias', 'transformer.h.10.attn.bias', 'transformer.h.10.attn.masked_bias', 'transformer.h.11.attn.bias', 'transformer.h.11.attn.masked_bias', 'transformer.h.12.attn.bias', 'transformer.h.12.attn.masked_bias', 'transformer.h.13.attn.bias', 'transformer.h.13.attn.masked_bias', 'transformer.h.14.attn.bias', 'transformer.h.14.attn.masked_bias', 'transformer.h.15.attn.bias', 'transformer.h.15.attn.masked_bias', 'transformer.h.16.attn.bias', 'transformer.h.16.attn.masked_bias', 'transformer.h.17.attn.bias', 'transformer.h.17.attn.masked_bias', 'transformer.h.18.attn.bias', 'transformer.h.18.attn.masked_bias', 'transformer.h.19.attn.bias', 'transformer.h.19.attn.masked_bias', 'transformer.h.2.attn.bias', 'transformer.h.2.attn.masked_bias', 'transformer.h.20.attn.bias', 'transformer.h.20.attn.masked_bias', 'transformer.h.21.attn.bias', 'transformer.h.21.attn.masked_bias', 'transformer.h.22.attn.bias', 'transformer.h.22.attn.masked_bias', 'transformer.h.23.attn.bias', 'transformer.h.23.attn.masked_bias', 'transformer.h.24.attn.bias', 'transformer.h.24.attn.masked_bias', 'transformer.h.25.attn.bias', 'transformer.h.25.attn.masked_bias', 'transformer.h.26.attn.bias', 'transformer.h.26.attn.masked_bias', 'transformer.h.27.attn.bias', 'transformer.h.27.attn.masked_bias', 'transformer.h.3.attn.bias', 'transformer.h.3.attn.masked_bias', 'transformer.h.4.attn.bias', 'transformer.h.4.attn.masked_bias', 'transformer.h.5.attn.bias', 'transformer.h.5.attn.masked_bias', 'transformer.h.6.attn.bias', 'transformer.h.6.attn.masked_bias', 'transformer.h.7.attn.bias', 'transformer.h.7.attn.masked_bias', 'transformer.h.8.attn.bias', 'transformer.h.8.attn.masked_bias', 'transformer.h.9.attn.bias', 'transformer.h.9.attn.masked_bias']\n",
      "- This IS expected if you are initializing GPTJForCausalLM from the checkpoint of a model trained on another task or with another architecture (e.g. initializing a BertForSequenceClassification model from a BertForPreTraining model).\n",
      "- This IS NOT expected if you are initializing GPTJForCausalLM from the checkpoint of a model that you expect to be exactly identical (initializing a BertForSequenceClassification model from a BertForSequenceClassification model).\n"
     ]
    },
    {
     "name": "stdout",
     "output_type": "stream",
     "text": [
      "\n",
      "Setting up dataset...\n",
      "Attempting to load dataset from: /u/amo-d1/grad/mha361/work/circuits/data/edge_pruning/datasets/gt\n",
      "Successfully loaded train split with 150 samples\n",
      "Attempting to load dataset from: /u/amo-d1/grad/mha361/work/circuits/data/edge_pruning/datasets/gt\n",
      "Successfully loaded validation split with 150 samples\n",
      "Attempting to load dataset from: /u/amo-d1/grad/mha361/work/circuits/data/edge_pruning/datasets/gt\n",
      "Successfully loaded test split with 12240 samples\n",
      "Creating two-digit token mapping...\n",
      "Successfully mapped 97 two-digit numbers to tokens\n",
      "\n",
      "==================================================\n",
      "  EVALUATING: Baseline Full Model (with Re-Normalization)\n",
      "==================================================\n"
     ]
    },
    {
     "name": "stderr",
     "output_type": "stream",
     "text": [
      "                                                                                  \r"
     ]
    },
    {
     "ename": "OutOfMemoryError",
     "evalue": "CUDA out of memory. Tried to allocate 32.00 MiB. GPU 0 has a total capacity of 23.57 GiB of which 31.56 MiB is free. Including non-PyTorch memory, this process has 23.53 GiB memory in use. Of the allocated memory 23.17 GiB is allocated by PyTorch, and 63.11 MiB is reserved by PyTorch but unallocated. If reserved but unallocated memory is large try setting PYTORCH_CUDA_ALLOC_CONF=expandable_segments:True to avoid fragmentation.  See documentation for Memory Management  (https://pytorch.org/docs/stable/notes/cuda.html#environment-variables)",
     "output_type": "error",
     "traceback": [
      "\u001b[31m---------------------------------------------------------------------------\u001b[39m",
      "\u001b[31mOutOfMemoryError\u001b[39m                          Traceback (most recent call last)",
      "\u001b[36mCell\u001b[39m\u001b[36m \u001b[39m\u001b[32mIn[1]\u001b[39m\u001b[32m, line 119\u001b[39m\n\u001b[32m    115\u001b[39m two_digit_tokens = create_two_digit_token_mapping(tokenizer)\n\u001b[32m    118\u001b[39m \u001b[38;5;66;03m# --- Baseline Evaluation ---\u001b[39;00m\n\u001b[32m--> \u001b[39m\u001b[32m119\u001b[39m baseline_results = \u001b[43mrun_evaluation\u001b[49m\u001b[43m(\u001b[49m\u001b[43mmodel_to_eval\u001b[49m\u001b[43m=\u001b[49m\u001b[43mfull_model\u001b[49m\u001b[43m,\u001b[49m\u001b[43m \u001b[49m\u001b[43mmodel_name\u001b[49m\u001b[43m=\u001b[49m\u001b[33;43m\"\u001b[39;49m\u001b[33;43mBaseline Full Model\u001b[39;49m\u001b[33;43m\"\u001b[39;49m\u001b[43m,\u001b[49m\u001b[43m \u001b[49m\u001b[43mfull_model_for_faithfulness\u001b[49m\u001b[43m=\u001b[49m\u001b[38;5;28;43;01mNone\u001b[39;49;00m\u001b[43m,\u001b[49m\u001b[43m \u001b[49m\u001b[43mdataloader\u001b[49m\u001b[43m=\u001b[49m\u001b[43mtest_dataloader\u001b[49m\u001b[43m,\u001b[49m\u001b[43m \u001b[49m\u001b[43mdevice\u001b[49m\u001b[43m=\u001b[49m\u001b[43mDEVICE\u001b[49m\u001b[43m,\u001b[49m\u001b[43m \u001b[49m\u001b[43mtwo_digit_tokens\u001b[49m\u001b[43m=\u001b[49m\u001b[43mtwo_digit_tokens\u001b[49m\u001b[43m,\u001b[49m\u001b[43m \u001b[49m\u001b[43mtokenizer\u001b[49m\u001b[43m=\u001b[49m\u001b[43mtokenizer\u001b[49m\u001b[43m)\u001b[49m\n\u001b[32m    120\u001b[39m base_prob_diff = baseline_results.get(\u001b[33m\"\u001b[39m\u001b[33mprob_diff\u001b[39m\u001b[33m\"\u001b[39m, \u001b[32m0.0\u001b[39m)\n\u001b[32m    122\u001b[39m \u001b[38;5;66;03m# # --- Test Circuit model ---\u001b[39;00m\n\u001b[32m    123\u001b[39m \n\u001b[32m    124\u001b[39m \u001b[38;5;66;03m# print(\"\\n--- Initial evaluation of the Circuit Discovery Model ---\")\u001b[39;00m\n\u001b[32m   (...)\u001b[39m\u001b[32m    164\u001b[39m \n\u001b[32m    165\u001b[39m \u001b[38;5;66;03m# final_results = run_evaluation(model_to_eval=circuit_model, model_name=\"Final Pruned Circuit (Optimal Thresholds)\", full_model_for_faithfulness=full_model, dataloader=test_dataloader, device=DEVICE, two_digit_tokens=two_digit_tokens)\u001b[39;00m\n",
      "\u001b[36mFile \u001b[39m\u001b[32m/mounts/u-amo-d1/grad/mha361/work/circuits/dataset/gt_gpt2.py:152\u001b[39m, in \u001b[36mrun_evaluation\u001b[39m\u001b[34m(model_to_eval, model_name, full_model_for_faithfulness, dataloader, device, two_digit_tokens, verbose, tokenizer)\u001b[39m\n\u001b[32m    149\u001b[39m \u001b[38;5;28;01mfor\u001b[39;00m key, val \u001b[38;5;129;01min\u001b[39;00m batch.items():\n\u001b[32m    150\u001b[39m     \u001b[38;5;28;01mif\u001b[39;00m \u001b[38;5;28misinstance\u001b[39m(val, torch.Tensor): batch[key] = val.to(device)\n\u001b[32m--> \u001b[39m\u001b[32m152\u001b[39m outputs = \u001b[43mmodel_to_eval\u001b[49m\u001b[43m(\u001b[49m\u001b[43minput_ids\u001b[49m\u001b[43m=\u001b[49m\u001b[43mbatch\u001b[49m\u001b[43m[\u001b[49m\u001b[33;43m'\u001b[39;49m\u001b[33;43mclean_input_ids\u001b[39;49m\u001b[33;43m'\u001b[39;49m\u001b[43m]\u001b[49m\u001b[43m,\u001b[49m\u001b[43m \u001b[49m\u001b[43mcorrupted_input_ids\u001b[49m\u001b[43m=\u001b[49m\u001b[43mbatch\u001b[49m\u001b[43m.\u001b[49m\u001b[43mget\u001b[49m\u001b[43m(\u001b[49m\u001b[33;43m'\u001b[39;49m\u001b[33;43mcorrupted_input_ids\u001b[39;49m\u001b[33;43m'\u001b[39;49m\u001b[43m)\u001b[49m\u001b[43m,\u001b[49m\u001b[43m \u001b[49m\u001b[43mattention_mask\u001b[49m\u001b[43m=\u001b[49m\u001b[43mbatch\u001b[49m\u001b[43m[\u001b[49m\u001b[33;43m'\u001b[39;49m\u001b[33;43mclean_attention_mask\u001b[39;49m\u001b[33;43m'\u001b[39;49m\u001b[43m]\u001b[49m\u001b[43m)\u001b[49m\n\u001b[32m    154\u001b[39m \u001b[38;5;66;03m# This part is the same: get the logits for the last token position\u001b[39;00m\n\u001b[32m    155\u001b[39m last_token_logits = outputs.logits[torch.arange(outputs.logits.size(\u001b[32m0\u001b[39m)), batch[\u001b[33m'\u001b[39m\u001b[33mlast_token_idx\u001b[39m\u001b[33m'\u001b[39m]-\u001b[32m1\u001b[39m, :]\n",
      "\u001b[36mFile \u001b[39m\u001b[32m~/anaconda3/envs/CD/lib/python3.12/site-packages/torch/nn/modules/module.py:1751\u001b[39m, in \u001b[36mModule._wrapped_call_impl\u001b[39m\u001b[34m(self, *args, **kwargs)\u001b[39m\n\u001b[32m   1749\u001b[39m     \u001b[38;5;28;01mreturn\u001b[39;00m \u001b[38;5;28mself\u001b[39m._compiled_call_impl(*args, **kwargs)  \u001b[38;5;66;03m# type: ignore[misc]\u001b[39;00m\n\u001b[32m   1750\u001b[39m \u001b[38;5;28;01melse\u001b[39;00m:\n\u001b[32m-> \u001b[39m\u001b[32m1751\u001b[39m     \u001b[38;5;28;01mreturn\u001b[39;00m \u001b[38;5;28;43mself\u001b[39;49m\u001b[43m.\u001b[49m\u001b[43m_call_impl\u001b[49m\u001b[43m(\u001b[49m\u001b[43m*\u001b[49m\u001b[43margs\u001b[49m\u001b[43m,\u001b[49m\u001b[43m \u001b[49m\u001b[43m*\u001b[49m\u001b[43m*\u001b[49m\u001b[43mkwargs\u001b[49m\u001b[43m)\u001b[49m\n",
      "\u001b[36mFile \u001b[39m\u001b[32m~/anaconda3/envs/CD/lib/python3.12/site-packages/torch/nn/modules/module.py:1762\u001b[39m, in \u001b[36mModule._call_impl\u001b[39m\u001b[34m(self, *args, **kwargs)\u001b[39m\n\u001b[32m   1757\u001b[39m \u001b[38;5;66;03m# If we don't have any hooks, we want to skip the rest of the logic in\u001b[39;00m\n\u001b[32m   1758\u001b[39m \u001b[38;5;66;03m# this function, and just call forward.\u001b[39;00m\n\u001b[32m   1759\u001b[39m \u001b[38;5;28;01mif\u001b[39;00m \u001b[38;5;129;01mnot\u001b[39;00m (\u001b[38;5;28mself\u001b[39m._backward_hooks \u001b[38;5;129;01mor\u001b[39;00m \u001b[38;5;28mself\u001b[39m._backward_pre_hooks \u001b[38;5;129;01mor\u001b[39;00m \u001b[38;5;28mself\u001b[39m._forward_hooks \u001b[38;5;129;01mor\u001b[39;00m \u001b[38;5;28mself\u001b[39m._forward_pre_hooks\n\u001b[32m   1760\u001b[39m         \u001b[38;5;129;01mor\u001b[39;00m _global_backward_pre_hooks \u001b[38;5;129;01mor\u001b[39;00m _global_backward_hooks\n\u001b[32m   1761\u001b[39m         \u001b[38;5;129;01mor\u001b[39;00m _global_forward_hooks \u001b[38;5;129;01mor\u001b[39;00m _global_forward_pre_hooks):\n\u001b[32m-> \u001b[39m\u001b[32m1762\u001b[39m     \u001b[38;5;28;01mreturn\u001b[39;00m \u001b[43mforward_call\u001b[49m\u001b[43m(\u001b[49m\u001b[43m*\u001b[49m\u001b[43margs\u001b[49m\u001b[43m,\u001b[49m\u001b[43m \u001b[49m\u001b[43m*\u001b[49m\u001b[43m*\u001b[49m\u001b[43mkwargs\u001b[49m\u001b[43m)\u001b[49m\n\u001b[32m   1764\u001b[39m result = \u001b[38;5;28;01mNone\u001b[39;00m\n\u001b[32m   1765\u001b[39m called_always_called_hooks = \u001b[38;5;28mset\u001b[39m()\n",
      "\u001b[36mFile \u001b[39m\u001b[32m~/anaconda3/envs/CD/lib/python3.12/site-packages/transformers/models/gptj/modeling_gptj.py:1009\u001b[39m, in \u001b[36mGPTJForCausalLM.forward\u001b[39m\u001b[34m(self, input_ids, past_key_values, attention_mask, token_type_ids, position_ids, head_mask, inputs_embeds, labels, use_cache, output_attentions, output_hidden_states, return_dict, cache_position, **kwargs)\u001b[39m\n\u001b[32m    997\u001b[39m \u001b[38;5;250m\u001b[39m\u001b[33mr\u001b[39m\u001b[33;03m\"\"\"\u001b[39;00m\n\u001b[32m    998\u001b[39m \u001b[33;03minputs_embeds (`torch.FloatTensor` of shape `(batch_size, sequence_length, hidden_dim)`, *optional*):\u001b[39;00m\n\u001b[32m    999\u001b[39m \u001b[33;03m    Optionally, instead of passing `input_ids` you can choose to directly pass an embedded representation. This\u001b[39;00m\n\u001b[32m   (...)\u001b[39m\u001b[32m   1005\u001b[39m \u001b[33;03m    are ignored (masked), the loss is only computed for labels in `[0, ..., config.vocab_size]`\u001b[39;00m\n\u001b[32m   1006\u001b[39m \u001b[33;03m\"\"\"\u001b[39;00m\n\u001b[32m   1007\u001b[39m return_dict = return_dict \u001b[38;5;28;01mif\u001b[39;00m return_dict \u001b[38;5;129;01mis\u001b[39;00m \u001b[38;5;129;01mnot\u001b[39;00m \u001b[38;5;28;01mNone\u001b[39;00m \u001b[38;5;28;01melse\u001b[39;00m \u001b[38;5;28mself\u001b[39m.config.use_return_dict\n\u001b[32m-> \u001b[39m\u001b[32m1009\u001b[39m transformer_outputs = \u001b[38;5;28;43mself\u001b[39;49m\u001b[43m.\u001b[49m\u001b[43mtransformer\u001b[49m\u001b[43m(\u001b[49m\n\u001b[32m   1010\u001b[39m \u001b[43m    \u001b[49m\u001b[43minput_ids\u001b[49m\u001b[43m,\u001b[49m\n\u001b[32m   1011\u001b[39m \u001b[43m    \u001b[49m\u001b[43mpast_key_values\u001b[49m\u001b[43m=\u001b[49m\u001b[43mpast_key_values\u001b[49m\u001b[43m,\u001b[49m\n\u001b[32m   1012\u001b[39m \u001b[43m    \u001b[49m\u001b[43mattention_mask\u001b[49m\u001b[43m=\u001b[49m\u001b[43mattention_mask\u001b[49m\u001b[43m,\u001b[49m\n\u001b[32m   1013\u001b[39m \u001b[43m    \u001b[49m\u001b[43mtoken_type_ids\u001b[49m\u001b[43m=\u001b[49m\u001b[43mtoken_type_ids\u001b[49m\u001b[43m,\u001b[49m\n\u001b[32m   1014\u001b[39m \u001b[43m    \u001b[49m\u001b[43mposition_ids\u001b[49m\u001b[43m=\u001b[49m\u001b[43mposition_ids\u001b[49m\u001b[43m,\u001b[49m\n\u001b[32m   1015\u001b[39m \u001b[43m    \u001b[49m\u001b[43mhead_mask\u001b[49m\u001b[43m=\u001b[49m\u001b[43mhead_mask\u001b[49m\u001b[43m,\u001b[49m\n\u001b[32m   1016\u001b[39m \u001b[43m    \u001b[49m\u001b[43minputs_embeds\u001b[49m\u001b[43m=\u001b[49m\u001b[43minputs_embeds\u001b[49m\u001b[43m,\u001b[49m\n\u001b[32m   1017\u001b[39m \u001b[43m    \u001b[49m\u001b[43muse_cache\u001b[49m\u001b[43m=\u001b[49m\u001b[43muse_cache\u001b[49m\u001b[43m,\u001b[49m\n\u001b[32m   1018\u001b[39m \u001b[43m    \u001b[49m\u001b[43moutput_attentions\u001b[49m\u001b[43m=\u001b[49m\u001b[43moutput_attentions\u001b[49m\u001b[43m,\u001b[49m\n\u001b[32m   1019\u001b[39m \u001b[43m    \u001b[49m\u001b[43moutput_hidden_states\u001b[49m\u001b[43m=\u001b[49m\u001b[43moutput_hidden_states\u001b[49m\u001b[43m,\u001b[49m\n\u001b[32m   1020\u001b[39m \u001b[43m    \u001b[49m\u001b[43mreturn_dict\u001b[49m\u001b[43m=\u001b[49m\u001b[43mreturn_dict\u001b[49m\u001b[43m,\u001b[49m\n\u001b[32m   1021\u001b[39m \u001b[43m    \u001b[49m\u001b[43mcache_position\u001b[49m\u001b[43m=\u001b[49m\u001b[43mcache_position\u001b[49m\u001b[43m,\u001b[49m\n\u001b[32m   1022\u001b[39m \u001b[43m\u001b[49m\u001b[43m)\u001b[49m\n\u001b[32m   1023\u001b[39m hidden_states = transformer_outputs[\u001b[32m0\u001b[39m]\n\u001b[32m   1025\u001b[39m \u001b[38;5;66;03m# Set device for model parallelism\u001b[39;00m\n",
      "\u001b[36mFile \u001b[39m\u001b[32m~/anaconda3/envs/CD/lib/python3.12/site-packages/torch/nn/modules/module.py:1751\u001b[39m, in \u001b[36mModule._wrapped_call_impl\u001b[39m\u001b[34m(self, *args, **kwargs)\u001b[39m\n\u001b[32m   1749\u001b[39m     \u001b[38;5;28;01mreturn\u001b[39;00m \u001b[38;5;28mself\u001b[39m._compiled_call_impl(*args, **kwargs)  \u001b[38;5;66;03m# type: ignore[misc]\u001b[39;00m\n\u001b[32m   1750\u001b[39m \u001b[38;5;28;01melse\u001b[39;00m:\n\u001b[32m-> \u001b[39m\u001b[32m1751\u001b[39m     \u001b[38;5;28;01mreturn\u001b[39;00m \u001b[38;5;28;43mself\u001b[39;49m\u001b[43m.\u001b[49m\u001b[43m_call_impl\u001b[49m\u001b[43m(\u001b[49m\u001b[43m*\u001b[49m\u001b[43margs\u001b[49m\u001b[43m,\u001b[49m\u001b[43m \u001b[49m\u001b[43m*\u001b[49m\u001b[43m*\u001b[49m\u001b[43mkwargs\u001b[49m\u001b[43m)\u001b[49m\n",
      "\u001b[36mFile \u001b[39m\u001b[32m~/anaconda3/envs/CD/lib/python3.12/site-packages/torch/nn/modules/module.py:1762\u001b[39m, in \u001b[36mModule._call_impl\u001b[39m\u001b[34m(self, *args, **kwargs)\u001b[39m\n\u001b[32m   1757\u001b[39m \u001b[38;5;66;03m# If we don't have any hooks, we want to skip the rest of the logic in\u001b[39;00m\n\u001b[32m   1758\u001b[39m \u001b[38;5;66;03m# this function, and just call forward.\u001b[39;00m\n\u001b[32m   1759\u001b[39m \u001b[38;5;28;01mif\u001b[39;00m \u001b[38;5;129;01mnot\u001b[39;00m (\u001b[38;5;28mself\u001b[39m._backward_hooks \u001b[38;5;129;01mor\u001b[39;00m \u001b[38;5;28mself\u001b[39m._backward_pre_hooks \u001b[38;5;129;01mor\u001b[39;00m \u001b[38;5;28mself\u001b[39m._forward_hooks \u001b[38;5;129;01mor\u001b[39;00m \u001b[38;5;28mself\u001b[39m._forward_pre_hooks\n\u001b[32m   1760\u001b[39m         \u001b[38;5;129;01mor\u001b[39;00m _global_backward_pre_hooks \u001b[38;5;129;01mor\u001b[39;00m _global_backward_hooks\n\u001b[32m   1761\u001b[39m         \u001b[38;5;129;01mor\u001b[39;00m _global_forward_hooks \u001b[38;5;129;01mor\u001b[39;00m _global_forward_pre_hooks):\n\u001b[32m-> \u001b[39m\u001b[32m1762\u001b[39m     \u001b[38;5;28;01mreturn\u001b[39;00m \u001b[43mforward_call\u001b[49m\u001b[43m(\u001b[49m\u001b[43m*\u001b[49m\u001b[43margs\u001b[49m\u001b[43m,\u001b[49m\u001b[43m \u001b[49m\u001b[43m*\u001b[49m\u001b[43m*\u001b[49m\u001b[43mkwargs\u001b[49m\u001b[43m)\u001b[49m\n\u001b[32m   1764\u001b[39m result = \u001b[38;5;28;01mNone\u001b[39;00m\n\u001b[32m   1765\u001b[39m called_always_called_hooks = \u001b[38;5;28mset\u001b[39m()\n",
      "\u001b[36mFile \u001b[39m\u001b[32m~/anaconda3/envs/CD/lib/python3.12/site-packages/transformers/models/gptj/modeling_gptj.py:749\u001b[39m, in \u001b[36mGPTJModel.forward\u001b[39m\u001b[34m(self, input_ids, past_key_values, attention_mask, token_type_ids, position_ids, head_mask, inputs_embeds, use_cache, output_attentions, output_hidden_states, return_dict, cache_position)\u001b[39m\n\u001b[32m    737\u001b[39m     outputs = \u001b[38;5;28mself\u001b[39m._gradient_checkpointing_func(\n\u001b[32m    738\u001b[39m         block.\u001b[34m__call__\u001b[39m,\n\u001b[32m    739\u001b[39m         hidden_states,\n\u001b[32m   (...)\u001b[39m\u001b[32m    746\u001b[39m         cache_position,\n\u001b[32m    747\u001b[39m     )\n\u001b[32m    748\u001b[39m \u001b[38;5;28;01melse\u001b[39;00m:\n\u001b[32m--> \u001b[39m\u001b[32m749\u001b[39m     outputs = \u001b[43mblock\u001b[49m\u001b[43m(\u001b[49m\n\u001b[32m    750\u001b[39m \u001b[43m        \u001b[49m\u001b[43mhidden_states\u001b[49m\u001b[43m=\u001b[49m\u001b[43mhidden_states\u001b[49m\u001b[43m,\u001b[49m\n\u001b[32m    751\u001b[39m \u001b[43m        \u001b[49m\u001b[43mlayer_past\u001b[49m\u001b[43m=\u001b[49m\u001b[43mpast_key_values\u001b[49m\u001b[43m,\u001b[49m\n\u001b[32m    752\u001b[39m \u001b[43m        \u001b[49m\u001b[43mattention_mask\u001b[49m\u001b[43m=\u001b[49m\u001b[43mcausal_mask\u001b[49m\u001b[43m,\u001b[49m\n\u001b[32m    753\u001b[39m \u001b[43m        \u001b[49m\u001b[43mposition_ids\u001b[49m\u001b[43m=\u001b[49m\u001b[43mposition_ids\u001b[49m\u001b[43m,\u001b[49m\n\u001b[32m    754\u001b[39m \u001b[43m        \u001b[49m\u001b[43mhead_mask\u001b[49m\u001b[43m=\u001b[49m\u001b[43mhead_mask\u001b[49m\u001b[43m[\u001b[49m\u001b[43mi\u001b[49m\u001b[43m]\u001b[49m\u001b[43m,\u001b[49m\n\u001b[32m    755\u001b[39m \u001b[43m        \u001b[49m\u001b[43muse_cache\u001b[49m\u001b[43m=\u001b[49m\u001b[43muse_cache\u001b[49m\u001b[43m,\u001b[49m\n\u001b[32m    756\u001b[39m \u001b[43m        \u001b[49m\u001b[43moutput_attentions\u001b[49m\u001b[43m=\u001b[49m\u001b[43moutput_attentions\u001b[49m\u001b[43m,\u001b[49m\n\u001b[32m    757\u001b[39m \u001b[43m        \u001b[49m\u001b[43mcache_position\u001b[49m\u001b[43m=\u001b[49m\u001b[43mcache_position\u001b[49m\u001b[43m,\u001b[49m\n\u001b[32m    758\u001b[39m \u001b[43m    \u001b[49m\u001b[43m)\u001b[49m\n\u001b[32m    760\u001b[39m hidden_states = outputs[\u001b[32m0\u001b[39m]\n\u001b[32m    761\u001b[39m \u001b[38;5;28;01mif\u001b[39;00m use_cache \u001b[38;5;129;01mis\u001b[39;00m \u001b[38;5;28;01mTrue\u001b[39;00m:\n",
      "\u001b[36mFile \u001b[39m\u001b[32m~/anaconda3/envs/CD/lib/python3.12/site-packages/torch/nn/modules/module.py:1751\u001b[39m, in \u001b[36mModule._wrapped_call_impl\u001b[39m\u001b[34m(self, *args, **kwargs)\u001b[39m\n\u001b[32m   1749\u001b[39m     \u001b[38;5;28;01mreturn\u001b[39;00m \u001b[38;5;28mself\u001b[39m._compiled_call_impl(*args, **kwargs)  \u001b[38;5;66;03m# type: ignore[misc]\u001b[39;00m\n\u001b[32m   1750\u001b[39m \u001b[38;5;28;01melse\u001b[39;00m:\n\u001b[32m-> \u001b[39m\u001b[32m1751\u001b[39m     \u001b[38;5;28;01mreturn\u001b[39;00m \u001b[38;5;28;43mself\u001b[39;49m\u001b[43m.\u001b[49m\u001b[43m_call_impl\u001b[49m\u001b[43m(\u001b[49m\u001b[43m*\u001b[49m\u001b[43margs\u001b[49m\u001b[43m,\u001b[49m\u001b[43m \u001b[49m\u001b[43m*\u001b[49m\u001b[43m*\u001b[49m\u001b[43mkwargs\u001b[49m\u001b[43m)\u001b[49m\n",
      "\u001b[36mFile \u001b[39m\u001b[32m~/anaconda3/envs/CD/lib/python3.12/site-packages/torch/nn/modules/module.py:1762\u001b[39m, in \u001b[36mModule._call_impl\u001b[39m\u001b[34m(self, *args, **kwargs)\u001b[39m\n\u001b[32m   1757\u001b[39m \u001b[38;5;66;03m# If we don't have any hooks, we want to skip the rest of the logic in\u001b[39;00m\n\u001b[32m   1758\u001b[39m \u001b[38;5;66;03m# this function, and just call forward.\u001b[39;00m\n\u001b[32m   1759\u001b[39m \u001b[38;5;28;01mif\u001b[39;00m \u001b[38;5;129;01mnot\u001b[39;00m (\u001b[38;5;28mself\u001b[39m._backward_hooks \u001b[38;5;129;01mor\u001b[39;00m \u001b[38;5;28mself\u001b[39m._backward_pre_hooks \u001b[38;5;129;01mor\u001b[39;00m \u001b[38;5;28mself\u001b[39m._forward_hooks \u001b[38;5;129;01mor\u001b[39;00m \u001b[38;5;28mself\u001b[39m._forward_pre_hooks\n\u001b[32m   1760\u001b[39m         \u001b[38;5;129;01mor\u001b[39;00m _global_backward_pre_hooks \u001b[38;5;129;01mor\u001b[39;00m _global_backward_hooks\n\u001b[32m   1761\u001b[39m         \u001b[38;5;129;01mor\u001b[39;00m _global_forward_hooks \u001b[38;5;129;01mor\u001b[39;00m _global_forward_pre_hooks):\n\u001b[32m-> \u001b[39m\u001b[32m1762\u001b[39m     \u001b[38;5;28;01mreturn\u001b[39;00m \u001b[43mforward_call\u001b[49m\u001b[43m(\u001b[49m\u001b[43m*\u001b[49m\u001b[43margs\u001b[49m\u001b[43m,\u001b[49m\u001b[43m \u001b[49m\u001b[43m*\u001b[49m\u001b[43m*\u001b[49m\u001b[43mkwargs\u001b[49m\u001b[43m)\u001b[49m\n\u001b[32m   1764\u001b[39m result = \u001b[38;5;28;01mNone\u001b[39;00m\n\u001b[32m   1765\u001b[39m called_always_called_hooks = \u001b[38;5;28mset\u001b[39m()\n",
      "\u001b[36mFile \u001b[39m\u001b[32m~/anaconda3/envs/CD/lib/python3.12/site-packages/transformers/models/gptj/modeling_gptj.py:466\u001b[39m, in \u001b[36mGPTJBlock.forward\u001b[39m\u001b[34m(self, hidden_states, layer_past, attention_mask, position_ids, head_mask, use_cache, output_attentions, cache_position)\u001b[39m\n\u001b[32m    463\u001b[39m attn_output = attn_outputs[\u001b[32m0\u001b[39m]  \u001b[38;5;66;03m# output_attn: a, present, (attentions)\u001b[39;00m\n\u001b[32m    464\u001b[39m outputs = attn_outputs[\u001b[32m1\u001b[39m:]\n\u001b[32m--> \u001b[39m\u001b[32m466\u001b[39m feed_forward_hidden_states = \u001b[38;5;28;43mself\u001b[39;49m\u001b[43m.\u001b[49m\u001b[43mmlp\u001b[49m\u001b[43m(\u001b[49m\u001b[43mhidden_states\u001b[49m\u001b[43m)\u001b[49m\n\u001b[32m    467\u001b[39m hidden_states = attn_output + feed_forward_hidden_states + residual\n\u001b[32m    469\u001b[39m \u001b[38;5;28;01mif\u001b[39;00m use_cache:\n",
      "\u001b[36mFile \u001b[39m\u001b[32m~/anaconda3/envs/CD/lib/python3.12/site-packages/torch/nn/modules/module.py:1751\u001b[39m, in \u001b[36mModule._wrapped_call_impl\u001b[39m\u001b[34m(self, *args, **kwargs)\u001b[39m\n\u001b[32m   1749\u001b[39m     \u001b[38;5;28;01mreturn\u001b[39;00m \u001b[38;5;28mself\u001b[39m._compiled_call_impl(*args, **kwargs)  \u001b[38;5;66;03m# type: ignore[misc]\u001b[39;00m\n\u001b[32m   1750\u001b[39m \u001b[38;5;28;01melse\u001b[39;00m:\n\u001b[32m-> \u001b[39m\u001b[32m1751\u001b[39m     \u001b[38;5;28;01mreturn\u001b[39;00m \u001b[38;5;28;43mself\u001b[39;49m\u001b[43m.\u001b[49m\u001b[43m_call_impl\u001b[49m\u001b[43m(\u001b[49m\u001b[43m*\u001b[49m\u001b[43margs\u001b[49m\u001b[43m,\u001b[49m\u001b[43m \u001b[49m\u001b[43m*\u001b[49m\u001b[43m*\u001b[49m\u001b[43mkwargs\u001b[49m\u001b[43m)\u001b[49m\n",
      "\u001b[36mFile \u001b[39m\u001b[32m~/anaconda3/envs/CD/lib/python3.12/site-packages/torch/nn/modules/module.py:1762\u001b[39m, in \u001b[36mModule._call_impl\u001b[39m\u001b[34m(self, *args, **kwargs)\u001b[39m\n\u001b[32m   1757\u001b[39m \u001b[38;5;66;03m# If we don't have any hooks, we want to skip the rest of the logic in\u001b[39;00m\n\u001b[32m   1758\u001b[39m \u001b[38;5;66;03m# this function, and just call forward.\u001b[39;00m\n\u001b[32m   1759\u001b[39m \u001b[38;5;28;01mif\u001b[39;00m \u001b[38;5;129;01mnot\u001b[39;00m (\u001b[38;5;28mself\u001b[39m._backward_hooks \u001b[38;5;129;01mor\u001b[39;00m \u001b[38;5;28mself\u001b[39m._backward_pre_hooks \u001b[38;5;129;01mor\u001b[39;00m \u001b[38;5;28mself\u001b[39m._forward_hooks \u001b[38;5;129;01mor\u001b[39;00m \u001b[38;5;28mself\u001b[39m._forward_pre_hooks\n\u001b[32m   1760\u001b[39m         \u001b[38;5;129;01mor\u001b[39;00m _global_backward_pre_hooks \u001b[38;5;129;01mor\u001b[39;00m _global_backward_hooks\n\u001b[32m   1761\u001b[39m         \u001b[38;5;129;01mor\u001b[39;00m _global_forward_hooks \u001b[38;5;129;01mor\u001b[39;00m _global_forward_pre_hooks):\n\u001b[32m-> \u001b[39m\u001b[32m1762\u001b[39m     \u001b[38;5;28;01mreturn\u001b[39;00m \u001b[43mforward_call\u001b[49m\u001b[43m(\u001b[49m\u001b[43m*\u001b[49m\u001b[43margs\u001b[49m\u001b[43m,\u001b[49m\u001b[43m \u001b[49m\u001b[43m*\u001b[49m\u001b[43m*\u001b[49m\u001b[43mkwargs\u001b[49m\u001b[43m)\u001b[49m\n\u001b[32m   1764\u001b[39m result = \u001b[38;5;28;01mNone\u001b[39;00m\n\u001b[32m   1765\u001b[39m called_always_called_hooks = \u001b[38;5;28mset\u001b[39m()\n",
      "\u001b[36mFile \u001b[39m\u001b[32m~/anaconda3/envs/CD/lib/python3.12/site-packages/transformers/models/gptj/modeling_gptj.py:426\u001b[39m, in \u001b[36mGPTJMLP.forward\u001b[39m\u001b[34m(self, hidden_states)\u001b[39m\n\u001b[32m    424\u001b[39m \u001b[38;5;28;01mdef\u001b[39;00m\u001b[38;5;250m \u001b[39m\u001b[34mforward\u001b[39m(\u001b[38;5;28mself\u001b[39m, hidden_states: Optional[torch.FloatTensor]) -> torch.FloatTensor:\n\u001b[32m    425\u001b[39m     hidden_states = \u001b[38;5;28mself\u001b[39m.fc_in(hidden_states)\n\u001b[32m--> \u001b[39m\u001b[32m426\u001b[39m     hidden_states = \u001b[38;5;28;43mself\u001b[39;49m\u001b[43m.\u001b[49m\u001b[43mact\u001b[49m\u001b[43m(\u001b[49m\u001b[43mhidden_states\u001b[49m\u001b[43m)\u001b[49m\n\u001b[32m    427\u001b[39m     hidden_states = \u001b[38;5;28mself\u001b[39m.fc_out(hidden_states)\n\u001b[32m    428\u001b[39m     hidden_states = \u001b[38;5;28mself\u001b[39m.dropout(hidden_states)\n",
      "\u001b[36mFile \u001b[39m\u001b[32m~/anaconda3/envs/CD/lib/python3.12/site-packages/torch/nn/modules/module.py:1751\u001b[39m, in \u001b[36mModule._wrapped_call_impl\u001b[39m\u001b[34m(self, *args, **kwargs)\u001b[39m\n\u001b[32m   1749\u001b[39m     \u001b[38;5;28;01mreturn\u001b[39;00m \u001b[38;5;28mself\u001b[39m._compiled_call_impl(*args, **kwargs)  \u001b[38;5;66;03m# type: ignore[misc]\u001b[39;00m\n\u001b[32m   1750\u001b[39m \u001b[38;5;28;01melse\u001b[39;00m:\n\u001b[32m-> \u001b[39m\u001b[32m1751\u001b[39m     \u001b[38;5;28;01mreturn\u001b[39;00m \u001b[38;5;28;43mself\u001b[39;49m\u001b[43m.\u001b[49m\u001b[43m_call_impl\u001b[49m\u001b[43m(\u001b[49m\u001b[43m*\u001b[49m\u001b[43margs\u001b[49m\u001b[43m,\u001b[49m\u001b[43m \u001b[49m\u001b[43m*\u001b[49m\u001b[43m*\u001b[49m\u001b[43mkwargs\u001b[49m\u001b[43m)\u001b[49m\n",
      "\u001b[36mFile \u001b[39m\u001b[32m~/anaconda3/envs/CD/lib/python3.12/site-packages/torch/nn/modules/module.py:1762\u001b[39m, in \u001b[36mModule._call_impl\u001b[39m\u001b[34m(self, *args, **kwargs)\u001b[39m\n\u001b[32m   1757\u001b[39m \u001b[38;5;66;03m# If we don't have any hooks, we want to skip the rest of the logic in\u001b[39;00m\n\u001b[32m   1758\u001b[39m \u001b[38;5;66;03m# this function, and just call forward.\u001b[39;00m\n\u001b[32m   1759\u001b[39m \u001b[38;5;28;01mif\u001b[39;00m \u001b[38;5;129;01mnot\u001b[39;00m (\u001b[38;5;28mself\u001b[39m._backward_hooks \u001b[38;5;129;01mor\u001b[39;00m \u001b[38;5;28mself\u001b[39m._backward_pre_hooks \u001b[38;5;129;01mor\u001b[39;00m \u001b[38;5;28mself\u001b[39m._forward_hooks \u001b[38;5;129;01mor\u001b[39;00m \u001b[38;5;28mself\u001b[39m._forward_pre_hooks\n\u001b[32m   1760\u001b[39m         \u001b[38;5;129;01mor\u001b[39;00m _global_backward_pre_hooks \u001b[38;5;129;01mor\u001b[39;00m _global_backward_hooks\n\u001b[32m   1761\u001b[39m         \u001b[38;5;129;01mor\u001b[39;00m _global_forward_hooks \u001b[38;5;129;01mor\u001b[39;00m _global_forward_pre_hooks):\n\u001b[32m-> \u001b[39m\u001b[32m1762\u001b[39m     \u001b[38;5;28;01mreturn\u001b[39;00m \u001b[43mforward_call\u001b[49m\u001b[43m(\u001b[49m\u001b[43m*\u001b[49m\u001b[43margs\u001b[49m\u001b[43m,\u001b[49m\u001b[43m \u001b[49m\u001b[43m*\u001b[49m\u001b[43m*\u001b[49m\u001b[43mkwargs\u001b[49m\u001b[43m)\u001b[49m\n\u001b[32m   1764\u001b[39m result = \u001b[38;5;28;01mNone\u001b[39;00m\n\u001b[32m   1765\u001b[39m called_always_called_hooks = \u001b[38;5;28mset\u001b[39m()\n",
      "\u001b[36mFile \u001b[39m\u001b[32m~/anaconda3/envs/CD/lib/python3.12/site-packages/transformers/activations.py:47\u001b[39m, in \u001b[36mNewGELUActivation.forward\u001b[39m\u001b[34m(self, input)\u001b[39m\n\u001b[32m     46\u001b[39m \u001b[38;5;28;01mdef\u001b[39;00m\u001b[38;5;250m \u001b[39m\u001b[34mforward\u001b[39m(\u001b[38;5;28mself\u001b[39m, \u001b[38;5;28minput\u001b[39m: Tensor) -> Tensor:\n\u001b[32m---> \u001b[39m\u001b[32m47\u001b[39m     \u001b[38;5;28;01mreturn\u001b[39;00m \u001b[32;43m0.5\u001b[39;49m\u001b[43m \u001b[49m\u001b[43m*\u001b[49m\u001b[43m \u001b[49m\u001b[38;5;28;43minput\u001b[39;49m * (\u001b[32m1.0\u001b[39m + torch.tanh(math.sqrt(\u001b[32m2.0\u001b[39m / math.pi) * (\u001b[38;5;28minput\u001b[39m + \u001b[32m0.044715\u001b[39m * torch.pow(\u001b[38;5;28minput\u001b[39m, \u001b[32m3.0\u001b[39m))))\n",
      "\u001b[31mOutOfMemoryError\u001b[39m: CUDA out of memory. Tried to allocate 32.00 MiB. GPU 0 has a total capacity of 23.57 GiB of which 31.56 MiB is free. Including non-PyTorch memory, this process has 23.53 GiB memory in use. Of the allocated memory 23.17 GiB is allocated by PyTorch, and 63.11 MiB is reserved by PyTorch but unallocated. If reserved but unallocated memory is large try setting PYTORCH_CUDA_ALLOC_CONF=expandable_segments:True to avoid fragmentation.  See documentation for Memory Management  (https://pytorch.org/docs/stable/notes/cuda.html#environment-variables)"
     ]
    }
   ],
   "source": [
    "import torch\n",
    "import torch.nn as nn\n",
    "import torch.nn.functional as F\n",
    "# from transformers import GPT2LMHeadModel, GPT2Tokenizer\n",
    "from transformers import Gemma2ForCausalLM, GemmaTokenizer\n",
    "# Load model directly\n",
    "from transformers import AutoTokenizer, AutoModelForCausalLM\n",
    "from torch.optim import AdamW\n",
    "from torch.utils.data import Dataset, DataLoader\n",
    "from typing import Dict, List, Optional\n",
    "from tqdm import tqdm\n",
    "import random\n",
    "# from models.gpt2_circuit import PrunableGPT2LMHeadModel as CircuitDiscoveryGPT2, GPT2LMHeadModel,PruningConfig\n",
    "from dataset.gt_gpt2 import GTDataset, load_or_generate_gt_data, create_two_digit_token_mapping, run_evaluation\n",
    "\n",
    "# from models.gemma_test import PruningConfig\n",
    "\n",
    "import torch\n",
    "import torch.nn as nn\n",
    "from tqdm import tqdm\n",
    "from models.l0 import HardConcreteGate\n",
    "\n",
    "import torch\n",
    "import torch.nn as nn\n",
    "from tqdm import tqdm\n",
    "from utils import disable_dropout, analyze_and_finalize_circuit\n",
    "# ==============================================================================\n",
    "# PRUNING CONFIGURATION\n",
    "# ==============================================================================\n",
    "from dataclasses import dataclass\n",
    "prune_factor = 0.05\n",
    "@dataclass\n",
    "class PruningConfig:\n",
    "    init_value: float = 1.0\n",
    "    sparsity_warmup_steps: int = 1\n",
    "\n",
    "    # --- Control Panel for Pruning Granularity ---\n",
    "    \n",
    "    # Attention Head Pruning (what we already have)\n",
    "    prune_attention_heads: bool = True\n",
    "    lambda_attention_heads: float = 0.01 * prune_factor  # The penalty for the attention head gates\n",
    "\n",
    "    # --- NEW: Separate controls for each MLP layer ---\n",
    "    prune_mlp_hidden: bool = True       # Prune the intermediate \"fat\" layer of the MLP\n",
    "    lambda_mlp_hidden: float = 0.0005 * prune_factor     # The penalty for the hidden layer gates\n",
    "\n",
    "    prune_mlp_output: bool = True      # Prune the final output of the entire MLP sub-block\n",
    "    lambda_mlp_output: float = 0.0005 * prune_factor    # The penalty for the output gates\n",
    "    \n",
    "    prune_embedding: bool = False\n",
    "    lambda_embedding: float = 0.1 * prune_factor# This is a crucial hyperparameter to tune\n",
    "# ==============================================================================\n",
    "# 5. MAIN EXECUTION (WITH FINAL CORRECTION)\n",
    "# ==============================================================================\n",
    "if __name__ == '__main__':\n",
    "    # --- Configuration ---\n",
    "    # (Same as before)\n",
    "    MODEL_NAME = 'google/gemma-2b'\n",
    "    NUM_EPOCHS = 10\n",
    "    LEARNING_RATE = 5e-3\n",
    "    BATCH_SIZE = 2\n",
    "    MAX_SEQ_LEN = 128\n",
    "    PROB_DIFF_BUDGET = 0.2\n",
    "    DEVICE = 'cuda' if torch.cuda.is_available() else 'cpu'\n",
    "\n",
    "    pruning_config = PruningConfig()\n",
    "    \n",
    "\n",
    "    tokenizer = AutoTokenizer.from_pretrained(\"EleutherAI/gpt-j-6B\")\n",
    "    if tokenizer.pad_token is None:\n",
    "        tokenizer.pad_token = tokenizer.eos_token\n",
    "    full_model = AutoModelForCausalLM.from_pretrained(\"EleutherAI/gpt-j-6B\").to(DEVICE).eval()\n",
    "\n",
    "    \n",
    "    # # ----- Disable all built-in dropout layers in the circuit model ---\n",
    "    # print(\"\\n--- Disabling all built-in dropout layers in the circuit model ---\")\n",
    "    # disable_dropout(circuit_model)\n",
    "    # # -----------------------------------------------------------------\n",
    "    \n",
    "    \n",
    "    # # --- Freeze the base model and unfreeze only the gates ---\n",
    "    # print(\"Freezing base model weights and unfreezing gate parameters...\")\n",
    "    # total_params = 0\n",
    "    # trainable_params = 0\n",
    "    # for name, param in circuit_model.named_parameters():\n",
    "    #     total_params += param.numel()\n",
    "    #     if 'gate' not in name:\n",
    "    #         param.requires_grad = False\n",
    "    #     else:\n",
    "    #         print(f\"  Unfreezing for training: {name}\")\n",
    "    #         param.requires_grad = True\n",
    "    #         trainable_params += param.numel()\n",
    "            \n",
    "    # print(f\"\\nTotal parameters: {total_params}\")\n",
    "    # print(f\"Trainable gate parameters: {trainable_params} ({trainable_params/total_params*100:.4f}%)\")\n",
    "\n",
    "    # --- Dataset Setup ---\n",
    "    print(\"\\nSetting up dataset...\")\n",
    "    # Load from disk with fallback to generation\n",
    "    train_data = load_or_generate_gt_data(split=\"train\")\n",
    "    val_data = load_or_generate_gt_data(split=\"validation\")\n",
    "    test_data = load_or_generate_gt_data(split=\"test\")\n",
    "\n",
    "    # Create dataset objects\n",
    "    train_dataset = GTDataset(train_data, tokenizer, max_length=MAX_SEQ_LEN)\n",
    "    val_dataset = GTDataset(val_data, tokenizer, max_length=MAX_SEQ_LEN)\n",
    "    test_dataset = GTDataset(test_data, tokenizer, max_length=MAX_SEQ_LEN)\n",
    "\n",
    "    # Create dataloaders\n",
    "    train_dataloader = DataLoader(train_dataset, batch_size=BATCH_SIZE, shuffle=True)\n",
    "    val_dataloader = DataLoader(val_dataset, batch_size=BATCH_SIZE)\n",
    "    test_dataloader = DataLoader(test_dataset, batch_size=BATCH_SIZE)\n",
    "\n",
    "    # Create token mapping\n",
    "    two_digit_tokens = create_two_digit_token_mapping(tokenizer)\n",
    "\n",
    "\n",
    "    # --- Baseline Evaluation ---\n",
    "    baseline_results = run_evaluation(model_to_eval=full_model, model_name=\"Baseline Full Model\", full_model_for_faithfulness=None, dataloader=test_dataloader, device=DEVICE, two_digit_tokens=two_digit_tokens, tokenizer=tokenizer)\n",
    "    base_prob_diff = baseline_results.get(\"prob_diff\", 0.0)\n",
    "    \n",
    "    # # --- Test Circuit model ---\n",
    "    \n",
    "    # print(\"\\n--- Initial evaluation of the Circuit Discovery Model ---\")\n",
    "    # circuit_model.eval()\n",
    "    # initial_results = run_evaluation(model_to_eval=circuit_model, model_name=\"Initial Circuit Model\", full_model_for_faithfulness=full_model, dataloader=val_dataloader, device=DEVICE, two_digit_tokens=two_digit_tokens)\n",
    "    # initial_prob_diff = initial_results.get(\"prob_diff\", 0.0)\n",
    "\n",
    "    # # --- Training ---\n",
    "    # # The optimizer will now only see the parameters that require gradients (the gates)\n",
    "    # gate_params = [p for p in circuit_model.parameters() if p.requires_grad]\n",
    "    # optimizer = AdamW(gate_params, lr=LEARNING_RATE)\n",
    "    \n",
    "    # print(f\"\\n--- Starting training to find 'Greater-Than' circuit ---\")\n",
    "    # circuit_model.train()\n",
    "    # total_steps = 0\n",
    "    # for epoch in range(NUM_EPOCHS):\n",
    "    #     for batch in tqdm(train_dataloader, desc=f\"Epoch {epoch+1}/{NUM_EPOCHS}\"):\n",
    "    #         optimizer.zero_grad()\n",
    "    #         for key, val in batch.items():\n",
    "    #             if isinstance(val, torch.Tensor): batch[key] = val.to(DEVICE)\n",
    "            \n",
    "    #         circuit_outputs = circuit_model(input_ids=batch['clean_input_ids'], corrupted_input_ids=batch['corrupted_input_ids'], attention_mask=batch['clean_attention_mask'])\n",
    "    #         with torch.no_grad():\n",
    "    #             target_outputs = full_model(input_ids=batch['clean_input_ids'], attention_mask=batch['clean_attention_mask'])\n",
    "\n",
    "    #         last_token_circuit_logits = circuit_outputs.logits[torch.arange(circuit_outputs.logits.size(0)), batch['last_token_idx'], :]\n",
    "    #         last_token_target_logits = target_outputs.logits[torch.arange(target_outputs.logits.size(0)), batch['last_token_idx'], :]\n",
    "\n",
    "    #         kl_loss = F.kl_div(F.log_softmax(last_token_circuit_logits, dim=-1), F.log_softmax(last_token_target_logits, dim=-1), reduction='batchmean', log_target=True)\n",
    "    #         sparsity_loss = circuit_model.get_sparsity_loss(step=total_steps)['total_sparsity']\n",
    "            \n",
    "    #         loss = kl_loss + sparsity_loss\n",
    "    #         loss.backward()\n",
    "    #         optimizer.step()\n",
    "    #         total_steps += 1\n",
    "        \n",
    "    #     # --- Epoch Validation ---\n",
    "    #     run_evaluation(model_to_eval=circuit_model, model_name=f\"Circuit after Epoch {epoch+1}\", full_model_for_faithfulness=full_model, dataloader=val_dataloader, device=DEVICE, two_digit_tokens=two_digit_tokens)\n",
    "    #     circuit_model.train()\n",
    "\n",
    "    # analyze_and_finalize_circuit(circuit_model)\n",
    "    \n",
    "\n",
    "    # final_results = run_evaluation(model_to_eval=circuit_model, model_name=\"Final Pruned Circuit (Optimal Thresholds)\", full_model_for_faithfulness=full_model, dataloader=test_dataloader, device=DEVICE, two_digit_tokens=two_digit_tokens)"
   ]
  },
  {
   "cell_type": "code",
   "execution_count": null,
   "id": "0af92aec",
   "metadata": {},
   "outputs": [],
   "source": []
  }
 ],
 "metadata": {
  "kernelspec": {
   "display_name": "CD",
   "language": "python",
   "name": "python3"
  },
  "language_info": {
   "codemirror_mode": {
    "name": "ipython",
    "version": 3
   },
   "file_extension": ".py",
   "mimetype": "text/x-python",
   "name": "python",
   "nbconvert_exporter": "python",
   "pygments_lexer": "ipython3",
   "version": "3.12.9"
  }
 },
 "nbformat": 4,
 "nbformat_minor": 5
}
